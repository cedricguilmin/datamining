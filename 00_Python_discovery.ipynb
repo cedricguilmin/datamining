{
  "nbformat": 4,
  "nbformat_minor": 0,
  "metadata": {
    "colab": {
      "provenance": [],
      "collapsed_sections": [],
      "toc_visible": true,
      "authorship_tag": "ABX9TyPJPbjcmT3OFPg6W2AWEL34",
      "include_colab_link": true
    },
    "kernelspec": {
      "name": "python3",
      "display_name": "Python 3"
    },
    "language_info": {
      "name": "python"
    },
    "gpuClass": "standard"
  },
  "cells": [
    {
      "cell_type": "markdown",
      "metadata": {
        "id": "view-in-github",
        "colab_type": "text"
      },
      "source": [
        "<a href=\"https://colab.research.google.com/github/cedricguilmin/datamining/blob/main/00_Python_discovery.ipynb\" target=\"_parent\"><img src=\"https://colab.research.google.com/assets/colab-badge.svg\" alt=\"Open In Colab\"/></a>"
      ]
    },
    {
      "cell_type": "markdown",
      "source": [
        "# Let's discover the basics of Python"
      ],
      "metadata": {
        "id": "3CHgNcjzJzm1"
      }
    },
    {
      "cell_type": "markdown",
      "source": [
        "## Number and math operations"
      ],
      "metadata": {
        "id": "4NIM2QGXLkew"
      }
    },
    {
      "cell_type": "code",
      "source": [
        "# You can add two numbers \n",
        "8+9"
      ],
      "metadata": {
        "colab": {
          "base_uri": "https://localhost:8080/"
        },
        "id": "LPk9sN74JjKt",
        "outputId": "9155b7db-41c5-404c-f680-7e01b6021dfd"
      },
      "execution_count": null,
      "outputs": [
        {
          "output_type": "execute_result",
          "data": {
            "text/plain": [
              "17"
            ]
          },
          "metadata": {},
          "execution_count": 2
        }
      ]
    },
    {
      "cell_type": "code",
      "source": [
        "# you can multiply 2 number and then add to the result 10\n",
        "8*2+10"
      ],
      "metadata": {
        "colab": {
          "base_uri": "https://localhost:8080/"
        },
        "id": "796ESMgGK7dd",
        "outputId": "8c8e6e26-c0ad-4a70-aab8-47d6f4854ea4"
      },
      "execution_count": null,
      "outputs": [
        {
          "output_type": "execute_result",
          "data": {
            "text/plain": [
              "26"
            ]
          },
          "metadata": {},
          "execution_count": 3
        }
      ]
    },
    {
      "cell_type": "code",
      "source": [
        "# How do you proceed if you want that operation 2 + 10 is executed first\n",
        "# YOUR SOLUTION\n",
        "8*(2+10)"
      ],
      "metadata": {
        "colab": {
          "base_uri": "https://localhost:8080/"
        },
        "id": "1k3V5YyiK-hG",
        "outputId": "e9d226bd-9107-4efe-f831-ff4acab5a899"
      },
      "execution_count": null,
      "outputs": [
        {
          "output_type": "execute_result",
          "data": {
            "text/plain": [
              "96"
            ]
          },
          "metadata": {},
          "execution_count": 4
        }
      ]
    },
    {
      "cell_type": "code",
      "source": [
        "# You can also apply exponent to a number\n",
        "# YOUR SOLUTION\n",
        "8**2"
      ],
      "metadata": {
        "colab": {
          "base_uri": "https://localhost:8080/"
        },
        "id": "ANwpKXBkNYJ-",
        "outputId": "aa38ee06-1f52-4667-87f6-bd4e127fc777"
      },
      "execution_count": null,
      "outputs": [
        {
          "output_type": "execute_result",
          "data": {
            "text/plain": [
              "64"
            ]
          },
          "metadata": {},
          "execution_count": 5
        }
      ]
    },
    {
      "cell_type": "code",
      "source": [
        "100-(9*11)"
      ],
      "metadata": {
        "colab": {
          "base_uri": "https://localhost:8080/"
        },
        "id": "Ye0Nd1GbKivo",
        "outputId": "7405c8dd-160c-4b15-8ee8-aafed0450ebe"
      },
      "execution_count": null,
      "outputs": [
        {
          "output_type": "execute_result",
          "data": {
            "text/plain": [
              "1"
            ]
          },
          "metadata": {},
          "execution_count": 6
        }
      ]
    },
    {
      "cell_type": "code",
      "source": [
        "# of course, you can also divide 2 numbers\n",
        "13/4"
      ],
      "metadata": {
        "colab": {
          "base_uri": "https://localhost:8080/"
        },
        "id": "cSJ2S2rOKQXS",
        "outputId": "40e9b047-2811-4bdf-87af-38c8189b9959"
      },
      "execution_count": null,
      "outputs": [
        {
          "output_type": "execute_result",
          "data": {
            "text/plain": [
              "3.25"
            ]
          },
          "metadata": {},
          "execution_count": 7
        }
      ]
    },
    {
      "cell_type": "code",
      "source": [
        "\n",
        "# how do you keep only interger part of a division\n",
        "# YOUR SOLUTION\n",
        "13//4"
      ],
      "metadata": {
        "colab": {
          "base_uri": "https://localhost:8080/"
        },
        "id": "ebXyh1P3KlrB",
        "outputId": "cf62aaa6-fa39-40e4-9ed3-78cbdd72d12e"
      },
      "execution_count": null,
      "outputs": [
        {
          "output_type": "execute_result",
          "data": {
            "text/plain": [
              "3"
            ]
          },
          "metadata": {},
          "execution_count": 8
        }
      ]
    },
    {
      "cell_type": "code",
      "source": [
        "# How do you compute 13 modulo 4?\n",
        "# YOUR SOLUTION\n",
        "13%4"
      ],
      "metadata": {
        "colab": {
          "base_uri": "https://localhost:8080/"
        },
        "id": "rW1dlpFVLVTI",
        "outputId": "70bfe113-ffab-46fe-882c-bab743b98caa"
      },
      "execution_count": null,
      "outputs": [
        {
          "output_type": "execute_result",
          "data": {
            "text/plain": [
              "1"
            ]
          },
          "metadata": {},
          "execution_count": 9
        }
      ]
    },
    {
      "cell_type": "code",
      "source": [
        "# you can create a object holding a specific value\n",
        "number = 8\n",
        "print(number)"
      ],
      "metadata": {
        "colab": {
          "base_uri": "https://localhost:8080/"
        },
        "id": "fOMl0NdzLYan",
        "outputId": "e88c14d6-922e-46ca-d995-80e0f9748f10"
      },
      "execution_count": null,
      "outputs": [
        {
          "output_type": "stream",
          "name": "stdout",
          "text": [
            "8\n"
          ]
        }
      ]
    },
    {
      "cell_type": "code",
      "source": [
        "# you can obtain the type of object\n",
        "type(number)"
      ],
      "metadata": {
        "colab": {
          "base_uri": "https://localhost:8080/"
        },
        "id": "XqgMnQh6L3ln",
        "outputId": "9c8f3248-813b-4f0b-ab82-6b187a1592ba"
      },
      "execution_count": null,
      "outputs": [
        {
          "output_type": "execute_result",
          "data": {
            "text/plain": [
              "int"
            ]
          },
          "metadata": {},
          "execution_count": 11
        }
      ]
    },
    {
      "cell_type": "code",
      "source": [
        "# if you have a number with decimals, what is the type in Python?\n",
        "# YOUR SOLUTION\n",
        "number_with_decimals = 10/3\n",
        "type(number_with_decimals)"
      ],
      "metadata": {
        "id": "YYumr_DnL5i3"
      },
      "execution_count": null,
      "outputs": []
    },
    {
      "cell_type": "code",
      "source": [
        "# if you sum an integer with a number with decimals, what kind of variable do you have ?\n",
        "# YOUR SOLUTION\n",
        "add_2_variables = number + number_with_decimals\n",
        "add_2_variables"
      ],
      "metadata": {
        "id": "RvumNvG7MLE-",
        "colab": {
          "base_uri": "https://localhost:8080/"
        },
        "outputId": "677f388b-0f9d-4b75-e27a-abdace71fc03"
      },
      "execution_count": null,
      "outputs": [
        {
          "output_type": "execute_result",
          "data": {
            "text/plain": [
              "11.333333333333334"
            ]
          },
          "metadata": {},
          "execution_count": 14
        }
      ]
    },
    {
      "cell_type": "code",
      "source": [
        "type(add_2_variables)"
      ],
      "metadata": {
        "colab": {
          "base_uri": "https://localhost:8080/"
        },
        "id": "7R8UXCwcMt1-",
        "outputId": "c6084f5d-4a4c-423a-d624-ec41151f7738"
      },
      "execution_count": null,
      "outputs": [
        {
          "output_type": "execute_result",
          "data": {
            "text/plain": [
              "float"
            ]
          },
          "metadata": {},
          "execution_count": 15
        }
      ]
    },
    {
      "cell_type": "code",
      "source": [
        "add_2_variables*2"
      ],
      "metadata": {
        "colab": {
          "base_uri": "https://localhost:8080/"
        },
        "id": "CUMgSOvvNsAe",
        "outputId": "67aa6438-ca37-4407-920b-dd0544d08389"
      },
      "execution_count": null,
      "outputs": [
        {
          "output_type": "execute_result",
          "data": {
            "text/plain": [
              "22.666666666666668"
            ]
          },
          "metadata": {},
          "execution_count": 16
        }
      ]
    },
    {
      "cell_type": "code",
      "source": [
        "# Incremental number\n",
        "increment = 0"
      ],
      "metadata": {
        "id": "oPEuBOuvOX3q"
      },
      "execution_count": null,
      "outputs": []
    },
    {
      "cell_type": "code",
      "source": [
        "print(increment)"
      ],
      "metadata": {
        "colab": {
          "base_uri": "https://localhost:8080/"
        },
        "id": "F97Wam_JHyGq",
        "outputId": "02205ef0-7388-44d3-8ba3-8ac55934ba0d"
      },
      "execution_count": null,
      "outputs": [
        {
          "output_type": "stream",
          "name": "stdout",
          "text": [
            "0\n"
          ]
        }
      ]
    },
    {
      "cell_type": "code",
      "source": [
        "# how do you increment a number (there are 2 ways of doing it)\n",
        "# Run this cell 4 times and then inspect value of increment\n",
        "# YOUR SOLUTION\n",
        "increment += 1"
      ],
      "metadata": {
        "id": "aXmS5yulH56K"
      },
      "execution_count": null,
      "outputs": []
    },
    {
      "cell_type": "code",
      "source": [
        "print(increment)"
      ],
      "metadata": {
        "colab": {
          "base_uri": "https://localhost:8080/"
        },
        "id": "_58Cgm-LH6DH",
        "outputId": "f5aa302a-3b70-47b8-8b51-23c9379139b6"
      },
      "execution_count": null,
      "outputs": [
        {
          "output_type": "stream",
          "name": "stdout",
          "text": [
            "1\n"
          ]
        }
      ]
    },
    {
      "cell_type": "code",
      "source": [
        "# How would you do if you don't know this trick about incrementing a numeric variable by 1 ?\n",
        "# YOUR SOLUTION"
      ],
      "metadata": {
        "id": "4syUJS9cIUpm"
      },
      "execution_count": null,
      "outputs": []
    },
    {
      "cell_type": "markdown",
      "source": [
        "## Strings"
      ],
      "metadata": {
        "id": "hvXsgEfsO-eU"
      }
    },
    {
      "cell_type": "code",
      "source": [
        "course_name = \"Data mining\""
      ],
      "metadata": {
        "id": "Emyj4BasPCUI"
      },
      "execution_count": null,
      "outputs": []
    },
    {
      "cell_type": "code",
      "source": [
        "print(course_name)"
      ],
      "metadata": {
        "colab": {
          "base_uri": "https://localhost:8080/"
        },
        "id": "I2Jj--tqPXgf",
        "outputId": "9b8d4250-5d09-471d-c998-459e498db046"
      },
      "execution_count": null,
      "outputs": [
        {
          "output_type": "stream",
          "name": "stdout",
          "text": [
            "Data mining\n"
          ]
        }
      ]
    },
    {
      "cell_type": "code",
      "source": [
        "# what is the object type?\n",
        "# YOUR SOLUTION\n",
        "type(course_name)"
      ],
      "metadata": {
        "colab": {
          "base_uri": "https://localhost:8080/"
        },
        "id": "v68lKrVCPY7F",
        "outputId": "571f6fec-6e42-4d2a-99fd-83e1dd8e1df9"
      },
      "execution_count": null,
      "outputs": [
        {
          "output_type": "execute_result",
          "data": {
            "text/plain": [
              "str"
            ]
          },
          "metadata": {},
          "execution_count": 4
        }
      ]
    },
    {
      "cell_type": "code",
      "source": [
        "year = \" 2022-2023\"\n",
        "# Try putting together course_name and year\n",
        "# YOUR SOLUTION\n",
        "course_name_year = course_name + year\n",
        "print(course_name_year)"
      ],
      "metadata": {
        "id": "UTsD8HaxPaqR"
      },
      "execution_count": null,
      "outputs": []
    },
    {
      "cell_type": "code",
      "source": [
        "# Try to do an addition between a str and a int for instance\n",
        "# YOUR SOLUTION\n",
        "course_name + 8"
      ],
      "metadata": {
        "colab": {
          "base_uri": "https://localhost:8080/",
          "height": 165
        },
        "id": "uepT6bV4Y5bu",
        "outputId": "e54b956c-2e93-4b25-e792-916396fad29d"
      },
      "execution_count": null,
      "outputs": [
        {
          "output_type": "error",
          "ename": "TypeError",
          "evalue": "ignored",
          "traceback": [
            "\u001b[0;31m---------------------------------------------------------------------------\u001b[0m",
            "\u001b[0;31mTypeError\u001b[0m                                 Traceback (most recent call last)",
            "\u001b[0;32m<ipython-input-27-72cd891a07d3>\u001b[0m in \u001b[0;36m<module>\u001b[0;34m()\u001b[0m\n\u001b[0;32m----> 1\u001b[0;31m \u001b[0mcourse_name\u001b[0m \u001b[0;34m+\u001b[0m \u001b[0;36m8\u001b[0m\u001b[0;34m\u001b[0m\u001b[0;34m\u001b[0m\u001b[0m\n\u001b[0m",
            "\u001b[0;31mTypeError\u001b[0m: can only concatenate str (not \"int\") to str"
          ]
        }
      ]
    },
    {
      "cell_type": "code",
      "source": [
        "# Try to solve the error just above\n",
        "# YOUR SOLUTION\n",
        "course_name + str(8)"
      ],
      "metadata": {
        "id": "pKIu9BB_ZFsM"
      },
      "execution_count": null,
      "outputs": []
    },
    {
      "cell_type": "code",
      "source": [
        "# Nice trick for repeating the same string\n",
        "3 * course_name"
      ],
      "metadata": {
        "id": "XyWPQpgJa1ez"
      },
      "execution_count": null,
      "outputs": []
    },
    {
      "cell_type": "code",
      "source": [
        "3 * (' '+ course_name + ' ')"
      ],
      "metadata": {
        "colab": {
          "base_uri": "https://localhost:8080/",
          "height": 36
        },
        "id": "LiG-hxDla9c7",
        "outputId": "3688467a-ec20-4e21-faa0-80cdfb66c1c5"
      },
      "execution_count": null,
      "outputs": [
        {
          "output_type": "execute_result",
          "data": {
            "text/plain": [
              "' Data mining  Data mining  Data mining '"
            ],
            "application/vnd.google.colaboratory.intrinsic+json": {
              "type": "string"
            }
          },
          "metadata": {},
          "execution_count": 28
        }
      ]
    },
    {
      "cell_type": "code",
      "source": [
        "# How many character are there in course_name?\n",
        "# YOUR SOLUTION\n",
        "len(course_name)"
      ],
      "metadata": {
        "id": "5IrZdFXePiQC",
        "colab": {
          "base_uri": "https://localhost:8080/"
        },
        "outputId": "44bb1989-f61a-42ed-d96d-dff9beaa2c66"
      },
      "execution_count": null,
      "outputs": [
        {
          "output_type": "execute_result",
          "data": {
            "text/plain": [
              "11"
            ]
          },
          "metadata": {},
          "execution_count": 29
        }
      ]
    },
    {
      "cell_type": "code",
      "source": [
        "# Extract first letter of object course_name\n",
        "# YOUR SOLUTION\n",
        "course_name[0]"
      ],
      "metadata": {
        "colab": {
          "base_uri": "https://localhost:8080/",
          "height": 36
        },
        "id": "maWyMXUqbm06",
        "outputId": "805b9b95-7926-4abe-fd86-91a6667d7ec5"
      },
      "execution_count": null,
      "outputs": [
        {
          "output_type": "execute_result",
          "data": {
            "text/plain": [
              "'D'"
            ],
            "application/vnd.google.colaboratory.intrinsic+json": {
              "type": "string"
            }
          },
          "metadata": {},
          "execution_count": 30
        }
      ]
    },
    {
      "cell_type": "code",
      "source": [
        "# Extract second letter of object course_name\n",
        "# YOUR SOLUTION\n",
        "course_name[1]"
      ],
      "metadata": {
        "colab": {
          "base_uri": "https://localhost:8080/",
          "height": 36
        },
        "id": "SBU1j3fsbvur",
        "outputId": "7a2f1814-7d08-40d0-b6a5-8a25655ea166"
      },
      "execution_count": null,
      "outputs": [
        {
          "output_type": "execute_result",
          "data": {
            "text/plain": [
              "'a'"
            ],
            "application/vnd.google.colaboratory.intrinsic+json": {
              "type": "string"
            }
          },
          "metadata": {},
          "execution_count": 31
        }
      ]
    },
    {
      "cell_type": "code",
      "source": [
        "# Extract third letter of object course_name\n",
        "# YOUR SOLUTION\n",
        "course_name[2]"
      ],
      "metadata": {
        "colab": {
          "base_uri": "https://localhost:8080/",
          "height": 36
        },
        "id": "FsAr3FDSbx6b",
        "outputId": "33f57aab-1467-43e4-9044-318ae8a738d8"
      },
      "execution_count": null,
      "outputs": [
        {
          "output_type": "execute_result",
          "data": {
            "text/plain": [
              "'t'"
            ],
            "application/vnd.google.colaboratory.intrinsic+json": {
              "type": "string"
            }
          },
          "metadata": {},
          "execution_count": 32
        }
      ]
    },
    {
      "cell_type": "code",
      "source": [
        "# Extract last letter of object course_name\n",
        "# YOUR SOLUTION\n",
        "course_name[-1]"
      ],
      "metadata": {
        "colab": {
          "base_uri": "https://localhost:8080/",
          "height": 36
        },
        "id": "3DKYpiHBchjL",
        "outputId": "77013f14-f4f1-485a-a21e-68dfc428605e"
      },
      "execution_count": null,
      "outputs": [
        {
          "output_type": "execute_result",
          "data": {
            "text/plain": [
              "'g'"
            ],
            "application/vnd.google.colaboratory.intrinsic+json": {
              "type": "string"
            }
          },
          "metadata": {},
          "execution_count": 33
        }
      ]
    },
    {
      "cell_type": "code",
      "source": [
        "# Extract second letter from the end of object course_name\n",
        "# YOUR SOLUTION\n",
        "course_name[-2]"
      ],
      "metadata": {
        "colab": {
          "base_uri": "https://localhost:8080/",
          "height": 36
        },
        "id": "VEu4CYYCclbI",
        "outputId": "9f3b52b6-dbb9-41f6-e20c-3cbad8c891aa"
      },
      "execution_count": null,
      "outputs": [
        {
          "output_type": "execute_result",
          "data": {
            "text/plain": [
              "'n'"
            ],
            "application/vnd.google.colaboratory.intrinsic+json": {
              "type": "string"
            }
          },
          "metadata": {},
          "execution_count": 34
        }
      ]
    },
    {
      "cell_type": "code",
      "source": [
        "# Extract first 3 characters of object course_name\n",
        "# YOUR SOLUTION\n",
        "course_name[0:3]"
      ],
      "metadata": {
        "colab": {
          "base_uri": "https://localhost:8080/",
          "height": 36
        },
        "id": "ysdEZVaceZip",
        "outputId": "681aaf1a-711a-410d-d126-92d1b53c6b28"
      },
      "execution_count": null,
      "outputs": [
        {
          "output_type": "execute_result",
          "data": {
            "text/plain": [
              "'Dat'"
            ],
            "application/vnd.google.colaboratory.intrinsic+json": {
              "type": "string"
            }
          },
          "metadata": {},
          "execution_count": 35
        }
      ]
    },
    {
      "cell_type": "code",
      "source": [
        "# Extract first 4 characters of object course_name\n",
        "# YOUR SOLUTION\n",
        "course_name[0:4]"
      ],
      "metadata": {
        "colab": {
          "base_uri": "https://localhost:8080/",
          "height": 36
        },
        "id": "qH4YFY8HconY",
        "outputId": "355a27b7-eca2-4803-f116-48ac1277ff18"
      },
      "execution_count": null,
      "outputs": [
        {
          "output_type": "execute_result",
          "data": {
            "text/plain": [
              "'Data'"
            ],
            "application/vnd.google.colaboratory.intrinsic+json": {
              "type": "string"
            }
          },
          "metadata": {},
          "execution_count": 36
        }
      ]
    },
    {
      "cell_type": "code",
      "source": [
        "# Extract from character 6 to character 9 included of object course_name\n",
        "# YOUR SOLUTION\n",
        "course_name[5:10]"
      ],
      "metadata": {
        "colab": {
          "base_uri": "https://localhost:8080/",
          "height": 36
        },
        "id": "_HqRGPo8ctuq",
        "outputId": "79005d5c-ecf1-493d-c4fe-042c034a0bdc"
      },
      "execution_count": null,
      "outputs": [
        {
          "output_type": "execute_result",
          "data": {
            "text/plain": [
              "'minin'"
            ],
            "application/vnd.google.colaboratory.intrinsic+json": {
              "type": "string"
            }
          },
          "metadata": {},
          "execution_count": 37
        }
      ]
    },
    {
      "cell_type": "code",
      "source": [
        "# Put object course name in uppercase\n",
        "# YOUR SOLUTION\n",
        "course_name.upper()"
      ],
      "metadata": {
        "colab": {
          "base_uri": "https://localhost:8080/",
          "height": 36
        },
        "id": "c9hBzWM1dDtx",
        "outputId": "f1909d21-f3ff-48cc-ed70-7241bdea6ccc"
      },
      "execution_count": null,
      "outputs": [
        {
          "output_type": "execute_result",
          "data": {
            "text/plain": [
              "'DATA MINING'"
            ],
            "application/vnd.google.colaboratory.intrinsic+json": {
              "type": "string"
            }
          },
          "metadata": {},
          "execution_count": 38
        }
      ]
    },
    {
      "cell_type": "code",
      "source": [
        "# Test if the course_name in upper case is in lower case\n",
        "# YOUR SOLUTION\n",
        "course_name.upper().islower()"
      ],
      "metadata": {
        "colab": {
          "base_uri": "https://localhost:8080/"
        },
        "id": "8vjGyx1qeqsL",
        "outputId": "167fa4a1-a411-43f2-de18-7986f0a6d31d"
      },
      "execution_count": null,
      "outputs": [
        {
          "output_type": "execute_result",
          "data": {
            "text/plain": [
              "False"
            ]
          },
          "metadata": {},
          "execution_count": 39
        }
      ]
    },
    {
      "cell_type": "code",
      "source": [
        "# Test if the course_name in lower case is in lower case\n",
        "# YOUR SOLUTION\n",
        "course_name.lower().islower()"
      ],
      "metadata": {
        "colab": {
          "base_uri": "https://localhost:8080/"
        },
        "id": "UOKyCPO7exMp",
        "outputId": "dae08047-a686-457a-a689-f677f9cdd63d"
      },
      "execution_count": null,
      "outputs": [
        {
          "output_type": "execute_result",
          "data": {
            "text/plain": [
              "True"
            ]
          },
          "metadata": {},
          "execution_count": 40
        }
      ]
    },
    {
      "cell_type": "code",
      "source": [
        "# Invert the case of letter: the upper case letters become lower case and lower case letters become upper case.\n",
        "# YOUR SOLUTION\n",
        "course_name.swapcase()"
      ],
      "metadata": {
        "colab": {
          "base_uri": "https://localhost:8080/",
          "height": 36
        },
        "id": "2WotdXA0e-kI",
        "outputId": "3fe79ac5-bf11-4703-d5c4-f54f227a6dbf"
      },
      "execution_count": null,
      "outputs": [
        {
          "output_type": "execute_result",
          "data": {
            "text/plain": [
              "'dATA MINING'"
            ],
            "application/vnd.google.colaboratory.intrinsic+json": {
              "type": "string"
            }
          },
          "metadata": {},
          "execution_count": 41
        }
      ]
    },
    {
      "cell_type": "code",
      "source": [
        "# Useful fonction to list all methods you can apply to an object\n",
        "dir(course_name)"
      ],
      "metadata": {
        "colab": {
          "base_uri": "https://localhost:8080/"
        },
        "id": "_wbgwLFVegag",
        "outputId": "c6946903-d6cc-4a67-d4b4-51832b668c11"
      },
      "execution_count": null,
      "outputs": [
        {
          "output_type": "execute_result",
          "data": {
            "text/plain": [
              "['__add__',\n",
              " '__class__',\n",
              " '__contains__',\n",
              " '__delattr__',\n",
              " '__dir__',\n",
              " '__doc__',\n",
              " '__eq__',\n",
              " '__format__',\n",
              " '__ge__',\n",
              " '__getattribute__',\n",
              " '__getitem__',\n",
              " '__getnewargs__',\n",
              " '__gt__',\n",
              " '__hash__',\n",
              " '__init__',\n",
              " '__init_subclass__',\n",
              " '__iter__',\n",
              " '__le__',\n",
              " '__len__',\n",
              " '__lt__',\n",
              " '__mod__',\n",
              " '__mul__',\n",
              " '__ne__',\n",
              " '__new__',\n",
              " '__reduce__',\n",
              " '__reduce_ex__',\n",
              " '__repr__',\n",
              " '__rmod__',\n",
              " '__rmul__',\n",
              " '__setattr__',\n",
              " '__sizeof__',\n",
              " '__str__',\n",
              " '__subclasshook__',\n",
              " 'capitalize',\n",
              " 'casefold',\n",
              " 'center',\n",
              " 'count',\n",
              " 'encode',\n",
              " 'endswith',\n",
              " 'expandtabs',\n",
              " 'find',\n",
              " 'format',\n",
              " 'format_map',\n",
              " 'index',\n",
              " 'isalnum',\n",
              " 'isalpha',\n",
              " 'isascii',\n",
              " 'isdecimal',\n",
              " 'isdigit',\n",
              " 'isidentifier',\n",
              " 'islower',\n",
              " 'isnumeric',\n",
              " 'isprintable',\n",
              " 'isspace',\n",
              " 'istitle',\n",
              " 'isupper',\n",
              " 'join',\n",
              " 'ljust',\n",
              " 'lower',\n",
              " 'lstrip',\n",
              " 'maketrans',\n",
              " 'partition',\n",
              " 'replace',\n",
              " 'rfind',\n",
              " 'rindex',\n",
              " 'rjust',\n",
              " 'rpartition',\n",
              " 'rsplit',\n",
              " 'rstrip',\n",
              " 'split',\n",
              " 'splitlines',\n",
              " 'startswith',\n",
              " 'strip',\n",
              " 'swapcase',\n",
              " 'title',\n",
              " 'translate',\n",
              " 'upper',\n",
              " 'zfill']"
            ]
          },
          "metadata": {},
          "execution_count": 42
        }
      ]
    },
    {
      "cell_type": "code",
      "source": [
        "# discover a new function\n",
        "??course_name.isalpha"
      ],
      "metadata": {
        "id": "7ICVuTlXgkXx"
      },
      "execution_count": null,
      "outputs": []
    },
    {
      "cell_type": "code",
      "source": [
        "course_name.isalpha()"
      ],
      "metadata": {
        "colab": {
          "base_uri": "https://localhost:8080/"
        },
        "id": "nXsFZfYkhHtr",
        "outputId": "5ae7c5ea-6472-4521-949e-bb70bbb79e21"
      },
      "execution_count": null,
      "outputs": [
        {
          "output_type": "execute_result",
          "data": {
            "text/plain": [
              "False"
            ]
          },
          "metadata": {},
          "execution_count": 44
        }
      ]
    },
    {
      "cell_type": "code",
      "source": [
        "# Make a modification to course_name such that course_name.isalpha() become True\n",
        "# YOUR SOLUTION\n",
        "course_name_nospace = course_name.replace(\" \", \"\")\n",
        "course_name_nospace.isalpha()"
      ],
      "metadata": {
        "colab": {
          "base_uri": "https://localhost:8080/",
          "height": 36
        },
        "id": "xqF56QOjivkA",
        "outputId": "fea9b9c0-49de-4db4-8603-74138858f14c"
      },
      "execution_count": null,
      "outputs": [
        {
          "output_type": "execute_result",
          "data": {
            "text/plain": [
              "'Datamining'"
            ],
            "application/vnd.google.colaboratory.intrinsic+json": {
              "type": "string"
            }
          },
          "metadata": {},
          "execution_count": 46
        }
      ]
    },
    {
      "cell_type": "markdown",
      "source": [
        "## List"
      ],
      "metadata": {
        "id": "qmNr6ab9QZ0e"
      }
    },
    {
      "cell_type": "code",
      "source": [
        "my_shopping_list = ['2 bottles of milk', '1 bottle of wine', '500g of Gouda']"
      ],
      "metadata": {
        "id": "2KMczgrHQcTz"
      },
      "execution_count": null,
      "outputs": []
    },
    {
      "cell_type": "code",
      "source": [
        "print(my_shopping_list)"
      ],
      "metadata": {
        "colab": {
          "base_uri": "https://localhost:8080/"
        },
        "id": "r6pHaelNQ1eY",
        "outputId": "6a89b0d7-eb83-439f-af95-60559f296f74"
      },
      "execution_count": null,
      "outputs": [
        {
          "output_type": "stream",
          "name": "stdout",
          "text": [
            "['2 bottles of milk', '1 bottle of wine', '500g of Gouda']\n"
          ]
        }
      ]
    },
    {
      "cell_type": "code",
      "source": [
        "# How many items are there in my_shopping_list?\n",
        "# YOUR SOLUTION"
      ],
      "metadata": {
        "id": "fCOdRzEw5YjF"
      },
      "execution_count": null,
      "outputs": []
    },
    {
      "cell_type": "code",
      "source": [
        "# How can you access the first element of my_shopping_list? Think about the way we did it for string ...\n",
        "# YOUR SOLUTION"
      ],
      "metadata": {
        "id": "fWxT0C_t5g_q"
      },
      "execution_count": null,
      "outputs": []
    },
    {
      "cell_type": "code",
      "source": [
        "your_shopping_list = [\"6 Jupiler\", \"1 bottle of milk\"]"
      ],
      "metadata": {
        "id": "a57WaCCgQ3-6"
      },
      "execution_count": null,
      "outputs": []
    },
    {
      "cell_type": "code",
      "source": [
        "# Show the content of your_shopping_list\n",
        "# YOUR SOLUTION"
      ],
      "metadata": {
        "id": "YdqD5U6uRbcI"
      },
      "execution_count": null,
      "outputs": []
    },
    {
      "cell_type": "code",
      "source": [
        "# how do you put together the 2 lists to have only 1 list. Call this new object full_shopping_list\n",
        "# YOUR SOLUTION"
      ],
      "metadata": {
        "id": "Qqk6z0_rRc80"
      },
      "execution_count": null,
      "outputs": []
    },
    {
      "cell_type": "code",
      "source": [
        "# Show the content of full_shopping_list\n",
        "# YOUR SOLUTION"
      ],
      "metadata": {
        "id": "kTzHCLIeRknl"
      },
      "execution_count": null,
      "outputs": []
    },
    {
      "cell_type": "code",
      "source": [
        "# How many items are there in full_shopping_list ?\n",
        "# YOUR SOLUTION"
      ],
      "metadata": {
        "id": "yCQWp5R__swk"
      },
      "execution_count": null,
      "outputs": []
    },
    {
      "cell_type": "code",
      "source": [
        "dir(my_shopping_list)"
      ],
      "metadata": {
        "colab": {
          "base_uri": "https://localhost:8080/"
        },
        "id": "0Y6PW24e_2-A",
        "outputId": "c748089f-e96a-4743-9b54-4a736339fa9e"
      },
      "execution_count": null,
      "outputs": [
        {
          "output_type": "execute_result",
          "data": {
            "text/plain": [
              "['__add__',\n",
              " '__class__',\n",
              " '__contains__',\n",
              " '__delattr__',\n",
              " '__delitem__',\n",
              " '__dir__',\n",
              " '__doc__',\n",
              " '__eq__',\n",
              " '__format__',\n",
              " '__ge__',\n",
              " '__getattribute__',\n",
              " '__getitem__',\n",
              " '__gt__',\n",
              " '__hash__',\n",
              " '__iadd__',\n",
              " '__imul__',\n",
              " '__init__',\n",
              " '__init_subclass__',\n",
              " '__iter__',\n",
              " '__le__',\n",
              " '__len__',\n",
              " '__lt__',\n",
              " '__mul__',\n",
              " '__ne__',\n",
              " '__new__',\n",
              " '__reduce__',\n",
              " '__reduce_ex__',\n",
              " '__repr__',\n",
              " '__reversed__',\n",
              " '__rmul__',\n",
              " '__setattr__',\n",
              " '__setitem__',\n",
              " '__sizeof__',\n",
              " '__str__',\n",
              " '__subclasshook__',\n",
              " 'append',\n",
              " 'clear',\n",
              " 'copy',\n",
              " 'count',\n",
              " 'extend',\n",
              " 'index',\n",
              " 'insert',\n",
              " 'pop',\n",
              " 'remove',\n",
              " 'reverse',\n",
              " 'sort']"
            ]
          },
          "metadata": {},
          "execution_count": 57
        }
      ]
    },
    {
      "cell_type": "code",
      "source": [
        "# add 'ice cream' into full_shopping_list\n",
        "# YOUR SOLUTION"
      ],
      "metadata": {
        "id": "xoau5LIiRo5c"
      },
      "execution_count": null,
      "outputs": []
    },
    {
      "cell_type": "code",
      "source": [
        "# verify that you have added 'ice cream' into your full_shopping_list\n",
        "# YOUR SOLUTION"
      ],
      "metadata": {
        "id": "fwJ8vi2PBOAQ"
      },
      "execution_count": null,
      "outputs": []
    },
    {
      "cell_type": "markdown",
      "source": [
        "## Dictionary\n",
        "You can read \n",
        "\n",
        "*   introduction of section 3.4\n",
        "*   section 3.4.1, 3.4.2 and 3.4.1\n",
        "\n",
        "on this website https://egallic.fr/Enseignement/Python/structures.html#type-dict\n",
        "\n",
        "After having read this, create an interesting usage for a dictionnary. Create a dictionnary, extract one value based on its key, check if a key is in your dictionnary"
      ],
      "metadata": {
        "id": "iQrC6hZqgCAE"
      }
    },
    {
      "cell_type": "markdown",
      "source": [
        "## Boolean"
      ],
      "metadata": {
        "id": "_junAutfRwoX"
      }
    },
    {
      "cell_type": "code",
      "source": [
        "True"
      ],
      "metadata": {
        "id": "o750V5pJR1Kb",
        "colab": {
          "base_uri": "https://localhost:8080/"
        },
        "outputId": "6e393c6d-9acf-4318-b9f3-269fbb4dcb28"
      },
      "execution_count": null,
      "outputs": [
        {
          "output_type": "execute_result",
          "data": {
            "text/plain": [
              "True"
            ]
          },
          "metadata": {},
          "execution_count": 60
        }
      ]
    },
    {
      "cell_type": "code",
      "source": [
        "# What is the opposite of True?\n",
        "# YOUR SOLUTION"
      ],
      "metadata": {
        "id": "grNaSRxEdcLm"
      },
      "execution_count": null,
      "outputs": []
    },
    {
      "cell_type": "code",
      "source": [
        "# Do you think that True equals False? ?\n",
        "# YOUR SOLUTION"
      ],
      "metadata": {
        "id": "0J2eMGZZdepa"
      },
      "execution_count": null,
      "outputs": []
    },
    {
      "cell_type": "code",
      "source": [
        "boolean_true = True"
      ],
      "metadata": {
        "id": "JvDDdJYIdkYx"
      },
      "execution_count": null,
      "outputs": []
    },
    {
      "cell_type": "code",
      "source": [
        "# Can you find the type of boolean_true ?\n",
        "# YOUR SOLUTION"
      ],
      "metadata": {
        "id": "sQgm-gZddojD"
      },
      "execution_count": null,
      "outputs": []
    },
    {
      "cell_type": "code",
      "source": [
        "# can you do maths vith True or False? Test addition, substraction, multiplication, ...\n",
        "# YOUR SOLUTION"
      ],
      "metadata": {
        "id": "izy7gHt3dzbG"
      },
      "execution_count": null,
      "outputs": []
    },
    {
      "cell_type": "code",
      "source": [
        "# can you verify if 8 is greater than 5 ?\n",
        "# YOUR SOLUTION"
      ],
      "metadata": {
        "id": "tt8e0X_GD3zk"
      },
      "execution_count": null,
      "outputs": []
    },
    {
      "cell_type": "markdown",
      "source": [
        "## if logic"
      ],
      "metadata": {
        "id": "4UZFnd1sgP3Z"
      }
    },
    {
      "cell_type": "code",
      "source": [
        "condition = False"
      ],
      "metadata": {
        "id": "WrZ6C1vsgUBC"
      },
      "execution_count": null,
      "outputs": []
    },
    {
      "cell_type": "code",
      "source": [
        "# Discover if logic\n",
        "if condition:\n",
        "  print(\"condition is True\")"
      ],
      "metadata": {
        "id": "lfR-koVYfS_P"
      },
      "execution_count": null,
      "outputs": []
    },
    {
      "cell_type": "code",
      "source": [
        "# What is the minimal change you can do to the previous code such that print function is executed\n",
        "# YOUR SOLUTION"
      ],
      "metadata": {
        "id": "iCr9654_kjpE"
      },
      "execution_count": null,
      "outputs": []
    },
    {
      "cell_type": "code",
      "source": [
        "# Discover if/else logic \n",
        "if condition:\n",
        "  print(\"condition is True\")\n",
        "else:\n",
        "  print(\"condition is False\")"
      ],
      "metadata": {
        "colab": {
          "base_uri": "https://localhost:8080/"
        },
        "id": "D2Z8j1PEfb9n",
        "outputId": "e69e8cff-819e-49b5-85fb-b4c97f36f88a"
      },
      "execution_count": null,
      "outputs": [
        {
          "output_type": "stream",
          "name": "stdout",
          "text": [
            "condition is False\n"
          ]
        }
      ]
    },
    {
      "cell_type": "code",
      "source": [
        "# another example\n",
        "if 8 > 10:\n",
        "  print(\"8 is bigger than 10\")\n",
        "else:\n",
        "  print(\"8 is not bigger than 10\")"
      ],
      "metadata": {
        "colab": {
          "base_uri": "https://localhost:8080/"
        },
        "id": "EqLr-rmUfjsb",
        "outputId": "3e05058c-9e49-4341-a835-60154eaa8779"
      },
      "execution_count": null,
      "outputs": [
        {
          "output_type": "stream",
          "name": "stdout",
          "text": [
            "8 is not bigger than 10\n"
          ]
        }
      ]
    },
    {
      "cell_type": "code",
      "source": [
        "# a third example\n",
        "if 10 > 8:\n",
        "  print(\"10 is bigger than 8\")\n",
        "else:\n",
        "  print(\"10 is not bigger than 8\")"
      ],
      "metadata": {
        "colab": {
          "base_uri": "https://localhost:8080/"
        },
        "id": "OPwBKJdNf68f",
        "outputId": "a0a9bed8-cac5-4832-d39d-fb413752b57e"
      },
      "execution_count": null,
      "outputs": [
        {
          "output_type": "stream",
          "name": "stdout",
          "text": [
            "10 is bigger than 8\n"
          ]
        }
      ]
    },
    {
      "cell_type": "code",
      "source": [
        "# build 'if ... else logic' where there are two conditions to meet       10 > 8 and 8 < 9\n",
        "# YOUR SOLUTION\n",
        "\n",
        "\n",
        "\n"
      ],
      "metadata": {
        "id": "Ku36suC8GIu8"
      },
      "execution_count": null,
      "outputs": []
    },
    {
      "cell_type": "code",
      "source": [
        "# build 'if ... else logic' where there are two conditions to meet       5 > 8 OR 8 < 9\n",
        "# YOUR SOLUTION\n",
        "\n",
        "\n",
        "\n"
      ],
      "metadata": {
        "id": "3xPZg5vCGUOj"
      },
      "execution_count": null,
      "outputs": []
    },
    {
      "cell_type": "code",
      "source": [
        "# build if logic. print \"Business Data Analyst time\" when we are in timeslots of BDA\n",
        "import datetime\n",
        "import pytz\n",
        "brusselsTz = pytz.timezone(\"Europe/Brussels\") \n",
        "current_time = datetime.datetime.now(brusselsTz)\n",
        "print(current_time)"
      ],
      "metadata": {
        "colab": {
          "base_uri": "https://localhost:8080/"
        },
        "id": "6Q_mLVBBGjKf",
        "outputId": "f1feeaa6-66c2-49ec-ce02-aca5c45a8197"
      },
      "execution_count": 31,
      "outputs": [
        {
          "output_type": "stream",
          "name": "stdout",
          "text": [
            "2022-09-28 09:00:26.612533+02:00\n"
          ]
        }
      ]
    },
    {
      "cell_type": "code",
      "source": [
        "dir(datetime)"
      ],
      "metadata": {
        "colab": {
          "base_uri": "https://localhost:8080/"
        },
        "id": "SYSjCeJ84T_c",
        "outputId": "2f72b2b5-6e8a-413e-a150-aa3010f579bc"
      },
      "execution_count": 25,
      "outputs": [
        {
          "output_type": "execute_result",
          "data": {
            "text/plain": [
              "['__add__',\n",
              " '__class__',\n",
              " '__delattr__',\n",
              " '__dir__',\n",
              " '__doc__',\n",
              " '__eq__',\n",
              " '__format__',\n",
              " '__ge__',\n",
              " '__getattribute__',\n",
              " '__gt__',\n",
              " '__hash__',\n",
              " '__init__',\n",
              " '__init_subclass__',\n",
              " '__le__',\n",
              " '__lt__',\n",
              " '__ne__',\n",
              " '__new__',\n",
              " '__radd__',\n",
              " '__reduce__',\n",
              " '__reduce_ex__',\n",
              " '__repr__',\n",
              " '__rsub__',\n",
              " '__setattr__',\n",
              " '__sizeof__',\n",
              " '__str__',\n",
              " '__sub__',\n",
              " '__subclasshook__',\n",
              " 'astimezone',\n",
              " 'combine',\n",
              " 'ctime',\n",
              " 'date',\n",
              " 'day',\n",
              " 'dst',\n",
              " 'fold',\n",
              " 'fromisoformat',\n",
              " 'fromordinal',\n",
              " 'fromtimestamp',\n",
              " 'hour',\n",
              " 'isocalendar',\n",
              " 'isoformat',\n",
              " 'isoweekday',\n",
              " 'max',\n",
              " 'microsecond',\n",
              " 'min',\n",
              " 'minute',\n",
              " 'month',\n",
              " 'now',\n",
              " 'replace',\n",
              " 'resolution',\n",
              " 'second',\n",
              " 'strftime',\n",
              " 'strptime',\n",
              " 'time',\n",
              " 'timestamp',\n",
              " 'timetuple',\n",
              " 'timetz',\n",
              " 'today',\n",
              " 'toordinal',\n",
              " 'tzinfo',\n",
              " 'tzname',\n",
              " 'utcfromtimestamp',\n",
              " 'utcnow',\n",
              " 'utcoffset',\n",
              " 'utctimetuple',\n",
              " 'weekday',\n",
              " 'year']"
            ]
          },
          "metadata": {},
          "execution_count": 25
        }
      ]
    },
    {
      "cell_type": "code",
      "source": [
        "type(current_time)"
      ],
      "metadata": {
        "colab": {
          "base_uri": "https://localhost:8080/"
        },
        "id": "drdg27Rd0rDl",
        "outputId": "a12f967e-723a-42db-f1ef-35553aa9bc98"
      },
      "execution_count": 22,
      "outputs": [
        {
          "output_type": "execute_result",
          "data": {
            "text/plain": [
              "datetime.datetime"
            ]
          },
          "metadata": {},
          "execution_count": 22
        }
      ]
    },
    {
      "cell_type": "code",
      "source": [
        "dir(current_time)"
      ],
      "metadata": {
        "colab": {
          "base_uri": "https://localhost:8080/"
        },
        "id": "pRHMFSdCJhD_",
        "outputId": "8a4f2cfb-6fe5-4249-9488-32e533b1dacb"
      },
      "execution_count": null,
      "outputs": [
        {
          "output_type": "execute_result",
          "data": {
            "text/plain": [
              "['__add__',\n",
              " '__class__',\n",
              " '__delattr__',\n",
              " '__dir__',\n",
              " '__doc__',\n",
              " '__eq__',\n",
              " '__format__',\n",
              " '__ge__',\n",
              " '__getattribute__',\n",
              " '__gt__',\n",
              " '__hash__',\n",
              " '__init__',\n",
              " '__init_subclass__',\n",
              " '__le__',\n",
              " '__lt__',\n",
              " '__ne__',\n",
              " '__new__',\n",
              " '__radd__',\n",
              " '__reduce__',\n",
              " '__reduce_ex__',\n",
              " '__repr__',\n",
              " '__rsub__',\n",
              " '__setattr__',\n",
              " '__sizeof__',\n",
              " '__str__',\n",
              " '__sub__',\n",
              " '__subclasshook__',\n",
              " 'astimezone',\n",
              " 'combine',\n",
              " 'ctime',\n",
              " 'date',\n",
              " 'day',\n",
              " 'dst',\n",
              " 'fold',\n",
              " 'fromisoformat',\n",
              " 'fromordinal',\n",
              " 'fromtimestamp',\n",
              " 'hour',\n",
              " 'isocalendar',\n",
              " 'isoformat',\n",
              " 'isoweekday',\n",
              " 'max',\n",
              " 'microsecond',\n",
              " 'min',\n",
              " 'minute',\n",
              " 'month',\n",
              " 'now',\n",
              " 'replace',\n",
              " 'resolution',\n",
              " 'second',\n",
              " 'strftime',\n",
              " 'strptime',\n",
              " 'time',\n",
              " 'timestamp',\n",
              " 'timetuple',\n",
              " 'timetz',\n",
              " 'today',\n",
              " 'toordinal',\n",
              " 'tzinfo',\n",
              " 'tzname',\n",
              " 'utcfromtimestamp',\n",
              " 'utcnow',\n",
              " 'utcoffset',\n",
              " 'utctimetuple',\n",
              " 'weekday',\n",
              " 'year']"
            ]
          },
          "metadata": {},
          "execution_count": 13
        }
      ]
    },
    {
      "cell_type": "code",
      "source": [
        "# YOUR SOLUTION\n",
        "if (((current_time.weekday() in [1, 3]) and current_time.hour >= 18 and current_time.hour < 21)\\\n",
        "or (current_time.weekday()==5 and ((current_time.hour >= 9 and current_time.hour <13  )\\\n",
        "                                    or (current_time.hour == 8 and current_time.minute >= 30)) ) ):\n",
        "  print(\"Business Data Analyst time\")\n",
        "\n",
        "\n"
      ],
      "metadata": {
        "id": "k3WJzDrHOoMK"
      },
      "execution_count": 19,
      "outputs": []
    },
    {
      "cell_type": "code",
      "source": [
        "# nicer\n",
        "current_weekday = current_time.weekday()\n",
        "current_hms = current_time.time()\n",
        "if (((current_weekday in [1, 3]) and current_hms >= datetime.time(18,0,0) and current_hms < datetime.time(21,0,0) )\\\n",
        "or (current_weekday==5 and current_hms >= datetime.time(8,30,0) and current_hms < datetime.time(13,0,0)) ):\n",
        "  print(\"Business Data Analyst time\")"
      ],
      "metadata": {
        "id": "L7visb3b5nY9"
      },
      "execution_count": null,
      "outputs": []
    },
    {
      "cell_type": "code",
      "source": [
        "datetime.time(16,59,5) > datetime.time(17,55,5)"
      ],
      "metadata": {
        "colab": {
          "base_uri": "https://localhost:8080/",
          "height": 165
        },
        "id": "rPccG5zY5LON",
        "outputId": "95dd96c6-2418-4c51-95e4-a09d1c098830"
      },
      "execution_count": 1,
      "outputs": [
        {
          "output_type": "error",
          "ename": "NameError",
          "evalue": "ignored",
          "traceback": [
            "\u001b[0;31m---------------------------------------------------------------------------\u001b[0m",
            "\u001b[0;31mNameError\u001b[0m                                 Traceback (most recent call last)",
            "\u001b[0;32m<ipython-input-1-177ed205faf0>\u001b[0m in \u001b[0;36m<module>\u001b[0;34m\u001b[0m\n\u001b[0;32m----> 1\u001b[0;31m \u001b[0mdatetime\u001b[0m\u001b[0;34m.\u001b[0m\u001b[0mtime\u001b[0m\u001b[0;34m(\u001b[0m\u001b[0;36m16\u001b[0m\u001b[0;34m,\u001b[0m\u001b[0;36m59\u001b[0m\u001b[0;34m,\u001b[0m\u001b[0;36m5\u001b[0m\u001b[0;34m)\u001b[0m \u001b[0;34m>\u001b[0m \u001b[0mdatetime\u001b[0m\u001b[0;34m.\u001b[0m\u001b[0mtime\u001b[0m\u001b[0;34m(\u001b[0m\u001b[0;36m17\u001b[0m\u001b[0;34m,\u001b[0m\u001b[0;36m55\u001b[0m\u001b[0;34m,\u001b[0m\u001b[0;36m5\u001b[0m\u001b[0;34m)\u001b[0m\u001b[0;34m\u001b[0m\u001b[0;34m\u001b[0m\u001b[0m\n\u001b[0m",
            "\u001b[0;31mNameError\u001b[0m: name 'datetime' is not defined"
          ]
        }
      ]
    },
    {
      "cell_type": "markdown",
      "source": [
        "## loop"
      ],
      "metadata": {
        "id": "o5-eWTKdgUo9"
      }
    },
    {
      "cell_type": "code",
      "source": [
        "# Hhow can we print number from 0 to 10\n",
        "print(0)\n",
        "print(1)\n",
        "print(2)\n",
        "# boring and time consuming"
      ],
      "metadata": {
        "id": "DCexWPdXgadA",
        "colab": {
          "base_uri": "https://localhost:8080/"
        },
        "outputId": "9d525470-5512-4d85-c855-fb30f7916bb7"
      },
      "execution_count": null,
      "outputs": [
        {
          "output_type": "stream",
          "name": "stdout",
          "text": [
            "0\n",
            "1\n",
            "2\n"
          ]
        }
      ]
    },
    {
      "cell_type": "code",
      "source": [
        "# let's create an object\n",
        "??range"
      ],
      "metadata": {
        "id": "Y24CRQSaTgPW"
      },
      "execution_count": 2,
      "outputs": []
    },
    {
      "cell_type": "code",
      "source": [
        "from_0_to_9 = range(10)\n",
        "from_0_to_9"
      ],
      "metadata": {
        "colab": {
          "base_uri": "https://localhost:8080/"
        },
        "id": "RNYbDBD3T1ei",
        "outputId": "6dd1ca13-2fd6-4d83-822f-8a291ef5155f"
      },
      "execution_count": null,
      "outputs": [
        {
          "output_type": "execute_result",
          "data": {
            "text/plain": [
              "range(0, 10)"
            ]
          },
          "metadata": {},
          "execution_count": 22
        }
      ]
    },
    {
      "cell_type": "code",
      "source": [
        "from_0_to_9[0]"
      ],
      "metadata": {
        "colab": {
          "base_uri": "https://localhost:8080/"
        },
        "id": "LC82tOJ8wUEn",
        "outputId": "fc707d44-16bd-4243-e8bc-aa90289d2bd4"
      },
      "execution_count": null,
      "outputs": [
        {
          "output_type": "execute_result",
          "data": {
            "text/plain": [
              "0"
            ]
          },
          "metadata": {},
          "execution_count": 23
        }
      ]
    },
    {
      "cell_type": "code",
      "source": [
        "from_0_to_9[1]"
      ],
      "metadata": {
        "colab": {
          "base_uri": "https://localhost:8080/"
        },
        "id": "rFEj6MDNwsWS",
        "outputId": "e0f6a791-4734-4077-ec46-ed9ba9c25093"
      },
      "execution_count": null,
      "outputs": [
        {
          "output_type": "execute_result",
          "data": {
            "text/plain": [
              "1"
            ]
          },
          "metadata": {},
          "execution_count": 24
        }
      ]
    },
    {
      "cell_type": "code",
      "source": [
        "# discover the structure of a loop\n",
        "# how do you print the value of i at each iteration\n",
        "for i in from_0_to_9:\n",
        "  # YOUR SOLUTION\n",
        "  print(i)"
      ],
      "metadata": {
        "colab": {
          "base_uri": "https://localhost:8080/"
        },
        "id": "ZgZnXniVwu0g",
        "outputId": "2cb76d8a-1d63-40ca-95c2-b47894139e35"
      },
      "execution_count": null,
      "outputs": [
        {
          "output_type": "stream",
          "name": "stdout",
          "text": [
            "0\n",
            "1\n",
            "2\n",
            "3\n",
            "4\n",
            "5\n",
            "6\n",
            "7\n",
            "8\n",
            "9\n"
          ]
        }
      ]
    },
    {
      "cell_type": "code",
      "source": [
        "# how would you do the same but starting from 10 and stopping at 0? \n",
        "# Hava e look at documentation of function range: ??range\n",
        "# YOUR SOLUTION\n"
      ],
      "metadata": {
        "id": "Yh5YBnlkxrWZ"
      },
      "execution_count": null,
      "outputs": []
    },
    {
      "cell_type": "code",
      "source": [
        "# Considering now this is a timer with the number of seconds left, is there a way to print a number every second\n",
        "# do not hesitate to use google to find your solution\n",
        "# YOUR SOLUTION\n",
        "import time\n",
        "number_second_left = range(10,-1,  -1)\n",
        "for i in number_second_left:\n",
        "  print(i)\n",
        "  time.sleep(1)\n"
      ],
      "metadata": {
        "id": "X_0U9xiryKp8",
        "colab": {
          "base_uri": "https://localhost:8080/"
        },
        "outputId": "1a7721b4-aa57-45cd-d4df-7dbaf5e07f6f"
      },
      "execution_count": 5,
      "outputs": [
        {
          "output_type": "stream",
          "name": "stdout",
          "text": [
            "10\n",
            "9\n",
            "8\n",
            "7\n",
            "6\n",
            "5\n",
            "4\n",
            "3\n",
            "2\n",
            "1\n"
          ]
        }
      ]
    },
    {
      "cell_type": "markdown",
      "source": [
        "## Let's compute some descriptive statistics"
      ],
      "metadata": {
        "id": "UYD0COgi6XWn"
      }
    },
    {
      "cell_type": "code",
      "source": [
        "# Let's say we have a list of age, from that list, we want to compute minimum, maximum and average\n",
        "# How would you do that? (for each statistics there are multiple ways of doing it)\n",
        "# YOUR SOLUTION\n",
        "age = [20,22,28,30,16,41,38,75,64,38]\n"
      ],
      "metadata": {
        "id": "mQ25i9oVzNc3"
      },
      "execution_count": 7,
      "outputs": []
    },
    {
      "cell_type": "code",
      "source": [
        "min(age), max(age), sum(age)/len(age)"
      ],
      "metadata": {
        "colab": {
          "base_uri": "https://localhost:8080/"
        },
        "id": "gT_hCo676FQT",
        "outputId": "909b5491-ea57-423c-fd1f-46115adb8320"
      },
      "execution_count": 8,
      "outputs": [
        {
          "output_type": "execute_result",
          "data": {
            "text/plain": [
              "(16, 75, 37.2)"
            ]
          },
          "metadata": {},
          "execution_count": 8
        }
      ]
    },
    {
      "cell_type": "code",
      "source": [
        "from statistics import mean\n",
        "mean(age)"
      ],
      "metadata": {
        "colab": {
          "base_uri": "https://localhost:8080/"
        },
        "id": "cc1dsJ2kQ6YM",
        "outputId": "ff05c4f5-28f1-45d4-c5c2-e4126eb25fde"
      },
      "execution_count": 9,
      "outputs": [
        {
          "output_type": "execute_result",
          "data": {
            "text/plain": [
              "37.2"
            ]
          },
          "metadata": {},
          "execution_count": 9
        }
      ]
    },
    {
      "cell_type": "code",
      "source": [
        "import numpy\n",
        "numpy.mean(age)"
      ],
      "metadata": {
        "colab": {
          "base_uri": "https://localhost:8080/"
        },
        "id": "jPKKLe79RGy4",
        "outputId": "283eeff9-a5d7-45aa-9a66-6ee2ce92b081"
      },
      "execution_count": 10,
      "outputs": [
        {
          "output_type": "execute_result",
          "data": {
            "text/plain": [
              "37.2"
            ]
          },
          "metadata": {},
          "execution_count": 10
        }
      ]
    },
    {
      "cell_type": "markdown",
      "source": [
        "## More content\n",
        "If you want to go further regarding the basics of Python programming, you can consult the following ressources:\n",
        "\n",
        "\n",
        "*   https://egallic.fr/Enseignement/Python/propos-liminaires.html\n",
        "*   https://www.w3schools.com/python/\n",
        "*   ...\n",
        "\n",
        "\n",
        "\n"
      ],
      "metadata": {
        "id": "FTyppgZ_WlCT"
      }
    }
  ]
}