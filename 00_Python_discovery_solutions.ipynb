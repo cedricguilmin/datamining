{
  "nbformat": 4,
  "nbformat_minor": 0,
  "metadata": {
    "colab": {
      "provenance": [],
      "collapsed_sections": [],
      "authorship_tag": "ABX9TyPzlconEF+xXOw5qa53gL/W",
      "include_colab_link": true
    },
    "kernelspec": {
      "name": "python3",
      "display_name": "Python 3"
    },
    "language_info": {
      "name": "python"
    },
    "gpuClass": "standard"
  },
  "cells": [
    {
      "cell_type": "markdown",
      "metadata": {
        "id": "view-in-github",
        "colab_type": "text"
      },
      "source": [
        "<a href=\"https://colab.research.google.com/github/cedricguilmin/datamining/blob/main/00_Python_discovery_solutions.ipynb\" target=\"_parent\"><img src=\"https://colab.research.google.com/assets/colab-badge.svg\" alt=\"Open In Colab\"/></a>"
      ]
    },
    {
      "cell_type": "markdown",
      "source": [
        "# Let's discover the basics of Python"
      ],
      "metadata": {
        "id": "3CHgNcjzJzm1"
      }
    },
    {
      "cell_type": "markdown",
      "source": [
        "## Number and math operations"
      ],
      "metadata": {
        "id": "4NIM2QGXLkew"
      }
    },
    {
      "cell_type": "code",
      "source": [
        "# You can add two numbers \n",
        "8+90"
      ],
      "metadata": {
        "colab": {
          "base_uri": "https://localhost:8080/"
        },
        "id": "LPk9sN74JjKt",
        "outputId": "6f052ec9-7c97-4529-d884-47123afbfb8f"
      },
      "execution_count": null,
      "outputs": [
        {
          "output_type": "execute_result",
          "data": {
            "text/plain": [
              "98"
            ]
          },
          "metadata": {},
          "execution_count": 2
        }
      ]
    },
    {
      "cell_type": "code",
      "source": [
        "# you can multiply 2 number and then add to the result 10\n",
        "8*2+10"
      ],
      "metadata": {
        "colab": {
          "base_uri": "https://localhost:8080/"
        },
        "id": "796ESMgGK7dd",
        "outputId": "c605e991-69cf-4cad-d787-455910fff077"
      },
      "execution_count": null,
      "outputs": [
        {
          "output_type": "execute_result",
          "data": {
            "text/plain": [
              "26"
            ]
          },
          "metadata": {},
          "execution_count": 24
        }
      ]
    },
    {
      "cell_type": "code",
      "source": [
        "# How do you proceed if you want that operation 2 + 10 is executed first\n",
        "# YOUR SOLUTION\n",
        "8*(2+10)"
      ],
      "metadata": {
        "colab": {
          "base_uri": "https://localhost:8080/"
        },
        "id": "1k3V5YyiK-hG",
        "outputId": "7be6d9ac-d22c-4dc4-bfe0-3a6652c97a38"
      },
      "execution_count": null,
      "outputs": [
        {
          "output_type": "execute_result",
          "data": {
            "text/plain": [
              "96"
            ]
          },
          "metadata": {},
          "execution_count": 25
        }
      ]
    },
    {
      "cell_type": "code",
      "source": [
        "# You can also apply exponent to a number\n",
        "# YOUR SOLUTION\n",
        "8**2"
      ],
      "metadata": {
        "colab": {
          "base_uri": "https://localhost:8080/"
        },
        "id": "ANwpKXBkNYJ-",
        "outputId": "ecabbe72-a2a0-424e-8f9e-4161bc9a3770"
      },
      "execution_count": null,
      "outputs": [
        {
          "output_type": "execute_result",
          "data": {
            "text/plain": [
              "64"
            ]
          },
          "metadata": {},
          "execution_count": 26
        }
      ]
    },
    {
      "cell_type": "code",
      "source": [
        "100-(9*11)"
      ],
      "metadata": {
        "colab": {
          "base_uri": "https://localhost:8080/"
        },
        "id": "Ye0Nd1GbKivo",
        "outputId": "4347e873-d44d-48b3-ed6f-8acac865bbd4"
      },
      "execution_count": null,
      "outputs": [
        {
          "output_type": "execute_result",
          "data": {
            "text/plain": [
              "1"
            ]
          },
          "metadata": {},
          "execution_count": 27
        }
      ]
    },
    {
      "cell_type": "code",
      "source": [
        "# of course, you can also divide 2 numbers\n",
        "13/4"
      ],
      "metadata": {
        "colab": {
          "base_uri": "https://localhost:8080/"
        },
        "id": "cSJ2S2rOKQXS",
        "outputId": "b8e1983f-9e82-4403-8f81-a9ef1ca9aeef"
      },
      "execution_count": null,
      "outputs": [
        {
          "output_type": "execute_result",
          "data": {
            "text/plain": [
              "3.25"
            ]
          },
          "metadata": {},
          "execution_count": 28
        }
      ]
    },
    {
      "cell_type": "code",
      "source": [
        "\n",
        "# how do you keep only interger part of a division\n",
        "# YOUR SOLUTION\n",
        "13//4"
      ],
      "metadata": {
        "colab": {
          "base_uri": "https://localhost:8080/"
        },
        "id": "ebXyh1P3KlrB",
        "outputId": "04994090-0a84-4c91-cfe0-e9fa7fa6c895"
      },
      "execution_count": null,
      "outputs": [
        {
          "output_type": "execute_result",
          "data": {
            "text/plain": [
              "3"
            ]
          },
          "metadata": {},
          "execution_count": 29
        }
      ]
    },
    {
      "cell_type": "code",
      "source": [
        "int(3.999999999999999999999999999999999999999999999999999999999999)"
      ],
      "metadata": {
        "colab": {
          "base_uri": "https://localhost:8080/"
        },
        "id": "mKU_NJNvSocy",
        "outputId": "390ec3d4-fcdb-45a8-c600-411e965c2cab"
      },
      "execution_count": null,
      "outputs": [
        {
          "output_type": "execute_result",
          "data": {
            "text/plain": [
              "4"
            ]
          },
          "metadata": {},
          "execution_count": 3
        }
      ]
    },
    {
      "cell_type": "code",
      "source": [
        "# How do you compute 13 modulo 4?\n",
        "# YOUR SOLUTION\n",
        "13%4"
      ],
      "metadata": {
        "colab": {
          "base_uri": "https://localhost:8080/"
        },
        "id": "rW1dlpFVLVTI",
        "outputId": "b8dc1687-a72d-4cfb-b765-bc8c58391a42"
      },
      "execution_count": null,
      "outputs": [
        {
          "output_type": "execute_result",
          "data": {
            "text/plain": [
              "1"
            ]
          },
          "metadata": {},
          "execution_count": 30
        }
      ]
    },
    {
      "cell_type": "code",
      "source": [
        "# you can create a object holding a specific value\n",
        "number = 8\n",
        "print(number)"
      ],
      "metadata": {
        "colab": {
          "base_uri": "https://localhost:8080/"
        },
        "id": "fOMl0NdzLYan",
        "outputId": "ce44554b-57da-4bb5-f15e-9b3f60e5389d"
      },
      "execution_count": null,
      "outputs": [
        {
          "output_type": "stream",
          "name": "stdout",
          "text": [
            "8\n"
          ]
        }
      ]
    },
    {
      "cell_type": "code",
      "source": [
        "# you can obtain the type of object\n",
        "type(number)"
      ],
      "metadata": {
        "colab": {
          "base_uri": "https://localhost:8080/"
        },
        "id": "XqgMnQh6L3ln",
        "outputId": "cc785969-65da-49c4-8873-0d0cc30657b4"
      },
      "execution_count": null,
      "outputs": [
        {
          "output_type": "execute_result",
          "data": {
            "text/plain": [
              "int"
            ]
          },
          "metadata": {},
          "execution_count": 32
        }
      ]
    },
    {
      "cell_type": "code",
      "source": [
        "# if you have a number with decimals, what is the type in Python?\n",
        "# YOUR SOLUTION\n",
        "number_with_decimals = 10/3\n",
        "type(number_with_decimals)"
      ],
      "metadata": {
        "id": "YYumr_DnL5i3",
        "colab": {
          "base_uri": "https://localhost:8080/"
        },
        "outputId": "de255a3e-057f-4b21-b455-32e2f9fa0fa6"
      },
      "execution_count": null,
      "outputs": [
        {
          "output_type": "execute_result",
          "data": {
            "text/plain": [
              "float"
            ]
          },
          "metadata": {},
          "execution_count": 33
        }
      ]
    },
    {
      "cell_type": "code",
      "source": [
        "type(10)"
      ],
      "metadata": {
        "colab": {
          "base_uri": "https://localhost:8080/"
        },
        "id": "1DXUabhATRgQ",
        "outputId": "9fbe81aa-0c0e-4bbb-fa24-2a8651f7a34a"
      },
      "execution_count": null,
      "outputs": [
        {
          "output_type": "execute_result",
          "data": {
            "text/plain": [
              "float"
            ]
          },
          "metadata": {},
          "execution_count": 4
        }
      ]
    },
    {
      "cell_type": "code",
      "source": [
        "# if you sum an integer with a number with decimals, what kind of variable do you have ?\n",
        "# YOUR SOLUTION\n",
        "add_2_variables = number + number_with_decimals\n",
        "add_2_variables"
      ],
      "metadata": {
        "id": "RvumNvG7MLE-",
        "colab": {
          "base_uri": "https://localhost:8080/"
        },
        "outputId": "a503e406-a450-4724-f111-c53235f1fb3e"
      },
      "execution_count": null,
      "outputs": [
        {
          "output_type": "execute_result",
          "data": {
            "text/plain": [
              "11.333333333333334"
            ]
          },
          "metadata": {},
          "execution_count": 34
        }
      ]
    },
    {
      "cell_type": "code",
      "source": [
        "type(add_2_variables)"
      ],
      "metadata": {
        "colab": {
          "base_uri": "https://localhost:8080/"
        },
        "id": "7R8UXCwcMt1-",
        "outputId": "62f0e5a2-c967-49d8-c195-fe6f9b028b6d"
      },
      "execution_count": null,
      "outputs": [
        {
          "output_type": "execute_result",
          "data": {
            "text/plain": [
              "float"
            ]
          },
          "metadata": {},
          "execution_count": 35
        }
      ]
    },
    {
      "cell_type": "code",
      "source": [
        "add_2_variables*2"
      ],
      "metadata": {
        "colab": {
          "base_uri": "https://localhost:8080/"
        },
        "id": "CUMgSOvvNsAe",
        "outputId": "918b8581-94ed-4184-8915-835767175a0f"
      },
      "execution_count": null,
      "outputs": [
        {
          "output_type": "execute_result",
          "data": {
            "text/plain": [
              "22.666666666666668"
            ]
          },
          "metadata": {},
          "execution_count": 36
        }
      ]
    },
    {
      "cell_type": "code",
      "source": [
        "# Incremental number\n",
        "increment = 0"
      ],
      "metadata": {
        "id": "oPEuBOuvOX3q"
      },
      "execution_count": null,
      "outputs": []
    },
    {
      "cell_type": "code",
      "source": [
        "print(increment)"
      ],
      "metadata": {
        "colab": {
          "base_uri": "https://localhost:8080/"
        },
        "id": "F97Wam_JHyGq",
        "outputId": "72dbf574-8871-4ad6-b95f-a5c706878f36"
      },
      "execution_count": null,
      "outputs": [
        {
          "output_type": "stream",
          "name": "stdout",
          "text": [
            "0\n"
          ]
        }
      ]
    },
    {
      "cell_type": "code",
      "source": [
        "# how do you increment a number (there are 2 ways of doing it)\n",
        "# Run this cell 4 times and then inspect value of increment\n",
        "# YOUR SOLUTION\n",
        "increment += 1"
      ],
      "metadata": {
        "id": "aXmS5yulH56K"
      },
      "execution_count": null,
      "outputs": []
    },
    {
      "cell_type": "code",
      "source": [
        "print(increment)"
      ],
      "metadata": {
        "colab": {
          "base_uri": "https://localhost:8080/"
        },
        "id": "_58Cgm-LH6DH",
        "outputId": "9c85c1ef-6c33-4e6c-bd58-982801ddce11"
      },
      "execution_count": null,
      "outputs": [
        {
          "output_type": "stream",
          "name": "stdout",
          "text": [
            "5\n"
          ]
        }
      ]
    },
    {
      "cell_type": "code",
      "source": [
        "# How would you do if you don't know this trick about incrementing a numeric variable by 1 ?\n",
        "increment = increment + 1"
      ],
      "metadata": {
        "id": "4syUJS9cIUpm"
      },
      "execution_count": null,
      "outputs": []
    },
    {
      "cell_type": "code",
      "source": [
        "num = 100\n",
        "denom = 25\n",
        "mult = 10e8\n",
        "num_ = (num * mult) - 1\n",
        "denom_ = (denom * mult)"
      ],
      "metadata": {
        "id": "9wUacP9HYFOR"
      },
      "execution_count": null,
      "outputs": []
    },
    {
      "cell_type": "code",
      "source": [
        "num_ // denom_"
      ],
      "metadata": {
        "colab": {
          "base_uri": "https://localhost:8080/"
        },
        "id": "InsqciuDYPhg",
        "outputId": "0b03d497-5491-432b-b758-1591c77a4dd3"
      },
      "execution_count": null,
      "outputs": [
        {
          "output_type": "execute_result",
          "data": {
            "text/plain": [
              "3.0"
            ]
          },
          "metadata": {},
          "execution_count": 21
        }
      ]
    },
    {
      "cell_type": "code",
      "source": [
        "int(num_ / denom_)"
      ],
      "metadata": {
        "colab": {
          "base_uri": "https://localhost:8080/"
        },
        "id": "RB4DJIFaZAQp",
        "outputId": "f149850d-a25e-4e1b-bbef-130438b37378"
      },
      "execution_count": null,
      "outputs": [
        {
          "output_type": "execute_result",
          "data": {
            "text/plain": [
              "3"
            ]
          },
          "metadata": {},
          "execution_count": 22
        }
      ]
    },
    {
      "cell_type": "markdown",
      "source": [
        "## Strings"
      ],
      "metadata": {
        "id": "hvXsgEfsO-eU"
      }
    },
    {
      "cell_type": "code",
      "source": [
        "course_name = 'Data mining'"
      ],
      "metadata": {
        "id": "Emyj4BasPCUI"
      },
      "execution_count": null,
      "outputs": []
    },
    {
      "cell_type": "code",
      "source": [
        "print(course_name)"
      ],
      "metadata": {
        "colab": {
          "base_uri": "https://localhost:8080/"
        },
        "id": "I2Jj--tqPXgf",
        "outputId": "75f51ece-34d2-462a-a4d8-7fa9804d1dda"
      },
      "execution_count": null,
      "outputs": [
        {
          "output_type": "stream",
          "name": "stdout",
          "text": [
            "Data mining\n"
          ]
        }
      ]
    },
    {
      "cell_type": "code",
      "source": [
        "# what is the object type?\n",
        "# YOUR SOLUTION\n",
        "type(course_name)"
      ],
      "metadata": {
        "colab": {
          "base_uri": "https://localhost:8080/"
        },
        "id": "v68lKrVCPY7F",
        "outputId": "d3e40160-2c2f-4f0b-d5dd-b733d03a72fe"
      },
      "execution_count": null,
      "outputs": [
        {
          "output_type": "execute_result",
          "data": {
            "text/plain": [
              "str"
            ]
          },
          "metadata": {},
          "execution_count": 44
        }
      ]
    },
    {
      "cell_type": "code",
      "source": [
        "year = \" 2022-2023\"\n",
        "# Try putting together course_name and year\n",
        "# YOUR SOLUTION\n",
        "course_name_year = course_name + year\n",
        "print(course_name_year)"
      ],
      "metadata": {
        "id": "UTsD8HaxPaqR",
        "colab": {
          "base_uri": "https://localhost:8080/"
        },
        "outputId": "31ac0458-e855-426f-f5c2-3227abc16e59"
      },
      "execution_count": null,
      "outputs": [
        {
          "output_type": "stream",
          "name": "stdout",
          "text": [
            "Data mining 2022-2023\n"
          ]
        }
      ]
    },
    {
      "cell_type": "code",
      "source": [
        "# Try to do an addition between a str and a int for instance\n",
        "# YOUR SOLUTION\n",
        "course_name + 8"
      ],
      "metadata": {
        "colab": {
          "base_uri": "https://localhost:8080/",
          "height": 200
        },
        "id": "uepT6bV4Y5bu",
        "outputId": "cb7efcdd-0cc2-431a-af7f-765be9126477"
      },
      "execution_count": null,
      "outputs": [
        {
          "output_type": "error",
          "ename": "TypeError",
          "evalue": "ignored",
          "traceback": [
            "\u001b[0;31m---------------------------------------------------------------------------\u001b[0m",
            "\u001b[0;31mTypeError\u001b[0m                                 Traceback (most recent call last)",
            "\u001b[0;32m<ipython-input-46-0edf9dcf11b4>\u001b[0m in \u001b[0;36m<module>\u001b[0;34m\u001b[0m\n\u001b[1;32m      1\u001b[0m \u001b[0;31m# Try to do an addition between a str and a int for instance\u001b[0m\u001b[0;34m\u001b[0m\u001b[0;34m\u001b[0m\u001b[0;34m\u001b[0m\u001b[0m\n\u001b[1;32m      2\u001b[0m \u001b[0;31m# YOUR SOLUTION\u001b[0m\u001b[0;34m\u001b[0m\u001b[0;34m\u001b[0m\u001b[0;34m\u001b[0m\u001b[0m\n\u001b[0;32m----> 3\u001b[0;31m \u001b[0mcourse_name\u001b[0m \u001b[0;34m+\u001b[0m \u001b[0;36m8\u001b[0m\u001b[0;34m\u001b[0m\u001b[0;34m\u001b[0m\u001b[0m\n\u001b[0m",
            "\u001b[0;31mTypeError\u001b[0m: can only concatenate str (not \"int\") to str"
          ]
        }
      ]
    },
    {
      "cell_type": "code",
      "source": [
        "# Try to solve the error just above\n",
        "# YOUR SOLUTION\n",
        "course_name + str(8)"
      ],
      "metadata": {
        "id": "pKIu9BB_ZFsM",
        "colab": {
          "base_uri": "https://localhost:8080/",
          "height": 36
        },
        "outputId": "ef759dfc-4549-490c-9ff6-ee51d74bbf37"
      },
      "execution_count": null,
      "outputs": [
        {
          "output_type": "execute_result",
          "data": {
            "text/plain": [
              "'Data mining8'"
            ],
            "application/vnd.google.colaboratory.intrinsic+json": {
              "type": "string"
            }
          },
          "metadata": {},
          "execution_count": 19
        }
      ]
    },
    {
      "cell_type": "code",
      "source": [
        "# Nice trick for repeating the same string\n",
        "3 * course_name"
      ],
      "metadata": {
        "id": "XyWPQpgJa1ez",
        "colab": {
          "base_uri": "https://localhost:8080/",
          "height": 36
        },
        "outputId": "3b760561-cd0f-4e10-e408-521841bd5a04"
      },
      "execution_count": null,
      "outputs": [
        {
          "output_type": "execute_result",
          "data": {
            "text/plain": [
              "'Data miningData miningData mining'"
            ],
            "application/vnd.google.colaboratory.intrinsic+json": {
              "type": "string"
            }
          },
          "metadata": {},
          "execution_count": 20
        }
      ]
    },
    {
      "cell_type": "code",
      "source": [
        "3 * (' '+ course_name + ' ')"
      ],
      "metadata": {
        "colab": {
          "base_uri": "https://localhost:8080/",
          "height": 36
        },
        "id": "LiG-hxDla9c7",
        "outputId": "70d38bfc-3d80-4227-c821-14e420ed03ba"
      },
      "execution_count": null,
      "outputs": [
        {
          "output_type": "execute_result",
          "data": {
            "text/plain": [
              "' Data mining  Data mining  Data mining '"
            ],
            "application/vnd.google.colaboratory.intrinsic+json": {
              "type": "string"
            }
          },
          "metadata": {},
          "execution_count": 49
        }
      ]
    },
    {
      "cell_type": "code",
      "source": [
        "# How many character are there in course_name?\n",
        "# YOUR SOLUTION\n",
        "len(course_name)"
      ],
      "metadata": {
        "id": "5IrZdFXePiQC",
        "colab": {
          "base_uri": "https://localhost:8080/"
        },
        "outputId": "9781cd87-d758-4395-af8a-9edd22e208e0"
      },
      "execution_count": null,
      "outputs": [
        {
          "output_type": "execute_result",
          "data": {
            "text/plain": [
              "11"
            ]
          },
          "metadata": {},
          "execution_count": 50
        }
      ]
    },
    {
      "cell_type": "code",
      "source": [
        "# Extract first letter of object course_name\n",
        "# YOUR SOLUTION\n",
        "course_name[0]"
      ],
      "metadata": {
        "colab": {
          "base_uri": "https://localhost:8080/",
          "height": 36
        },
        "id": "maWyMXUqbm06",
        "outputId": "c1780d97-d43a-404b-90f2-a0acfc2a4972"
      },
      "execution_count": null,
      "outputs": [
        {
          "output_type": "execute_result",
          "data": {
            "text/plain": [
              "'D'"
            ],
            "application/vnd.google.colaboratory.intrinsic+json": {
              "type": "string"
            }
          },
          "metadata": {},
          "execution_count": 51
        }
      ]
    },
    {
      "cell_type": "code",
      "source": [
        "# Extract second letter of object course_name\n",
        "# YOUR SOLUTION\n",
        "course_name[1]"
      ],
      "metadata": {
        "colab": {
          "base_uri": "https://localhost:8080/",
          "height": 36
        },
        "id": "SBU1j3fsbvur",
        "outputId": "40cc0812-60bf-487b-a8bc-80a4c55450b1"
      },
      "execution_count": null,
      "outputs": [
        {
          "output_type": "execute_result",
          "data": {
            "text/plain": [
              "'a'"
            ],
            "application/vnd.google.colaboratory.intrinsic+json": {
              "type": "string"
            }
          },
          "metadata": {},
          "execution_count": 52
        }
      ]
    },
    {
      "cell_type": "code",
      "source": [
        "# Extract third letter of object course_name\n",
        "# YOUR SOLUTION\n",
        "course_name[2]"
      ],
      "metadata": {
        "colab": {
          "base_uri": "https://localhost:8080/",
          "height": 36
        },
        "id": "FsAr3FDSbx6b",
        "outputId": "26379521-92d4-4310-861e-d205ee4711de"
      },
      "execution_count": null,
      "outputs": [
        {
          "output_type": "execute_result",
          "data": {
            "text/plain": [
              "'t'"
            ],
            "application/vnd.google.colaboratory.intrinsic+json": {
              "type": "string"
            }
          },
          "metadata": {},
          "execution_count": 53
        }
      ]
    },
    {
      "cell_type": "code",
      "source": [
        "# Extract last letter of object course_name\n",
        "# YOUR SOLUTION\n",
        "course_name[-1]"
      ],
      "metadata": {
        "colab": {
          "base_uri": "https://localhost:8080/",
          "height": 36
        },
        "id": "3DKYpiHBchjL",
        "outputId": "f5e97d65-48f6-45e1-adc1-58e28f19968f"
      },
      "execution_count": null,
      "outputs": [
        {
          "output_type": "execute_result",
          "data": {
            "text/plain": [
              "'g'"
            ],
            "application/vnd.google.colaboratory.intrinsic+json": {
              "type": "string"
            }
          },
          "metadata": {},
          "execution_count": 23
        }
      ]
    },
    {
      "cell_type": "code",
      "source": [
        "# Extract second letter from the end of object course_name\n",
        "# YOUR SOLUTION\n",
        "course_name[-2]"
      ],
      "metadata": {
        "colab": {
          "base_uri": "https://localhost:8080/",
          "height": 36
        },
        "id": "VEu4CYYCclbI",
        "outputId": "a4c443df-36c5-4cb5-bc73-51a01885a1fb"
      },
      "execution_count": null,
      "outputs": [
        {
          "output_type": "execute_result",
          "data": {
            "text/plain": [
              "'n'"
            ],
            "application/vnd.google.colaboratory.intrinsic+json": {
              "type": "string"
            }
          },
          "metadata": {},
          "execution_count": 55
        }
      ]
    },
    {
      "cell_type": "code",
      "source": [
        "# Extract first 3 characters of object course_name\n",
        "# YOUR SOLUTION\n",
        "course_name[0:3]"
      ],
      "metadata": {
        "colab": {
          "base_uri": "https://localhost:8080/",
          "height": 36
        },
        "id": "ysdEZVaceZip",
        "outputId": "a72f948c-9042-4ea8-c3ad-5995740ed52f"
      },
      "execution_count": null,
      "outputs": [
        {
          "output_type": "execute_result",
          "data": {
            "text/plain": [
              "'Dat'"
            ],
            "application/vnd.google.colaboratory.intrinsic+json": {
              "type": "string"
            }
          },
          "metadata": {},
          "execution_count": 24
        }
      ]
    },
    {
      "cell_type": "code",
      "source": [
        "# Extract first 4 characters of object course_name\n",
        "# YOUR SOLUTION\n",
        "course_name[0:4]"
      ],
      "metadata": {
        "colab": {
          "base_uri": "https://localhost:8080/",
          "height": 36
        },
        "id": "qH4YFY8HconY",
        "outputId": "603d2b25-ec83-4f8d-b1ec-9673e29f85b6"
      },
      "execution_count": null,
      "outputs": [
        {
          "output_type": "execute_result",
          "data": {
            "text/plain": [
              "'Data'"
            ],
            "application/vnd.google.colaboratory.intrinsic+json": {
              "type": "string"
            }
          },
          "metadata": {},
          "execution_count": 25
        }
      ]
    },
    {
      "cell_type": "code",
      "source": [
        "# Extract from character 6 to character 9 included of object course_name\n",
        "# YOUR SOLUTION\n",
        "course_name[5:10]"
      ],
      "metadata": {
        "colab": {
          "base_uri": "https://localhost:8080/",
          "height": 36
        },
        "id": "_HqRGPo8ctuq",
        "outputId": "ec346964-17a3-4ae4-fccd-41baaf436a3f"
      },
      "execution_count": null,
      "outputs": [
        {
          "output_type": "execute_result",
          "data": {
            "text/plain": [
              "'minin'"
            ],
            "application/vnd.google.colaboratory.intrinsic+json": {
              "type": "string"
            }
          },
          "metadata": {},
          "execution_count": 58
        }
      ]
    },
    {
      "cell_type": "code",
      "source": [
        "# Put object course name in uppercase\n",
        "# YOUR SOLUTION\n",
        "course_name.upper()"
      ],
      "metadata": {
        "id": "c9hBzWM1dDtx"
      },
      "execution_count": null,
      "outputs": []
    },
    {
      "cell_type": "code",
      "source": [
        "course_name"
      ],
      "metadata": {
        "colab": {
          "base_uri": "https://localhost:8080/",
          "height": 36
        },
        "id": "Y73RAiDilQ9c",
        "outputId": "b38ac969-fded-42dd-8023-0a9b9809ba76"
      },
      "execution_count": null,
      "outputs": [
        {
          "output_type": "execute_result",
          "data": {
            "text/plain": [
              "'Data mining'"
            ],
            "application/vnd.google.colaboratory.intrinsic+json": {
              "type": "string"
            }
          },
          "metadata": {},
          "execution_count": 32
        }
      ]
    },
    {
      "cell_type": "code",
      "source": [
        "# Test if the course_name in upper case is in lower case\n",
        "# YOUR SOLUTION\n",
        "course_name.upper().islower()"
      ],
      "metadata": {
        "colab": {
          "base_uri": "https://localhost:8080/"
        },
        "id": "8vjGyx1qeqsL",
        "outputId": "35a0d13c-e217-4166-c285-83b23ceb75af"
      },
      "execution_count": null,
      "outputs": [
        {
          "output_type": "execute_result",
          "data": {
            "text/plain": [
              "False"
            ]
          },
          "metadata": {},
          "execution_count": 34
        }
      ]
    },
    {
      "cell_type": "code",
      "source": [
        "# Test if the course_name in lower case is in lower case\n",
        "# YOUR SOLUTION\n",
        "course_name.lower().islower()"
      ],
      "metadata": {
        "colab": {
          "base_uri": "https://localhost:8080/"
        },
        "id": "UOKyCPO7exMp",
        "outputId": "d5cd7d39-1ad3-43e5-9326-cc9aa2d6aae8"
      },
      "execution_count": null,
      "outputs": [
        {
          "output_type": "execute_result",
          "data": {
            "text/plain": [
              "True"
            ]
          },
          "metadata": {},
          "execution_count": 35
        }
      ]
    },
    {
      "cell_type": "code",
      "source": [
        "# Invert the case of letter: the upper case letters become lower case and lower case letters become upper case.\n",
        "# YOUR SOLUTION\n",
        "course_name.swapcase()"
      ],
      "metadata": {
        "colab": {
          "base_uri": "https://localhost:8080/",
          "height": 36
        },
        "id": "2WotdXA0e-kI",
        "outputId": "27fc32f6-3a07-4a3e-8d0c-8dc2041ae661"
      },
      "execution_count": null,
      "outputs": [
        {
          "output_type": "execute_result",
          "data": {
            "text/plain": [
              "'dATA MINING'"
            ],
            "application/vnd.google.colaboratory.intrinsic+json": {
              "type": "string"
            }
          },
          "metadata": {},
          "execution_count": 36
        }
      ]
    },
    {
      "cell_type": "code",
      "source": [
        "# Useful fonction to list all methods you can apply to an object\n",
        "dir(course_name)"
      ],
      "metadata": {
        "colab": {
          "base_uri": "https://localhost:8080/"
        },
        "id": "_wbgwLFVegag",
        "outputId": "0e1f4bbd-32c3-4358-e9bd-7a98cc6c7aa2"
      },
      "execution_count": null,
      "outputs": [
        {
          "output_type": "execute_result",
          "data": {
            "text/plain": [
              "['__add__',\n",
              " '__class__',\n",
              " '__contains__',\n",
              " '__delattr__',\n",
              " '__dir__',\n",
              " '__doc__',\n",
              " '__eq__',\n",
              " '__format__',\n",
              " '__ge__',\n",
              " '__getattribute__',\n",
              " '__getitem__',\n",
              " '__getnewargs__',\n",
              " '__gt__',\n",
              " '__hash__',\n",
              " '__init__',\n",
              " '__init_subclass__',\n",
              " '__iter__',\n",
              " '__le__',\n",
              " '__len__',\n",
              " '__lt__',\n",
              " '__mod__',\n",
              " '__mul__',\n",
              " '__ne__',\n",
              " '__new__',\n",
              " '__reduce__',\n",
              " '__reduce_ex__',\n",
              " '__repr__',\n",
              " '__rmod__',\n",
              " '__rmul__',\n",
              " '__setattr__',\n",
              " '__sizeof__',\n",
              " '__str__',\n",
              " '__subclasshook__',\n",
              " 'capitalize',\n",
              " 'casefold',\n",
              " 'center',\n",
              " 'count',\n",
              " 'encode',\n",
              " 'endswith',\n",
              " 'expandtabs',\n",
              " 'find',\n",
              " 'format',\n",
              " 'format_map',\n",
              " 'index',\n",
              " 'isalnum',\n",
              " 'isalpha',\n",
              " 'isascii',\n",
              " 'isdecimal',\n",
              " 'isdigit',\n",
              " 'isidentifier',\n",
              " 'islower',\n",
              " 'isnumeric',\n",
              " 'isprintable',\n",
              " 'isspace',\n",
              " 'istitle',\n",
              " 'isupper',\n",
              " 'join',\n",
              " 'ljust',\n",
              " 'lower',\n",
              " 'lstrip',\n",
              " 'maketrans',\n",
              " 'partition',\n",
              " 'replace',\n",
              " 'rfind',\n",
              " 'rindex',\n",
              " 'rjust',\n",
              " 'rpartition',\n",
              " 'rsplit',\n",
              " 'rstrip',\n",
              " 'split',\n",
              " 'splitlines',\n",
              " 'startswith',\n",
              " 'strip',\n",
              " 'swapcase',\n",
              " 'title',\n",
              " 'translate',\n",
              " 'upper',\n",
              " 'zfill']"
            ]
          },
          "metadata": {},
          "execution_count": 63
        }
      ]
    },
    {
      "cell_type": "code",
      "source": [
        "# discover a new function\n",
        "??course_name.isalpha"
      ],
      "metadata": {
        "id": "7ICVuTlXgkXx"
      },
      "execution_count": null,
      "outputs": []
    },
    {
      "cell_type": "code",
      "source": [
        "course_name.isalpha()"
      ],
      "metadata": {
        "colab": {
          "base_uri": "https://localhost:8080/"
        },
        "id": "nXsFZfYkhHtr",
        "outputId": "8b1ac0c0-3816-43e2-b567-1fe468135b55"
      },
      "execution_count": null,
      "outputs": [
        {
          "output_type": "execute_result",
          "data": {
            "text/plain": [
              "False"
            ]
          },
          "metadata": {},
          "execution_count": 38
        }
      ]
    },
    {
      "cell_type": "code",
      "source": [
        "# Make a modification to course_name such that course_name.isalpha() become True\n",
        "# YOUR SOLUTION\n",
        "course_name_nospace = course_name.replace(\" \", \"\")\n",
        "course_name_nospace.isalpha()"
      ],
      "metadata": {
        "colab": {
          "base_uri": "https://localhost:8080/"
        },
        "id": "xqF56QOjivkA",
        "outputId": "17b901e7-e4bd-4f2d-e902-859894b27054"
      },
      "execution_count": null,
      "outputs": [
        {
          "output_type": "execute_result",
          "data": {
            "text/plain": [
              "True"
            ]
          },
          "metadata": {},
          "execution_count": 39
        }
      ]
    },
    {
      "cell_type": "markdown",
      "source": [
        "## List"
      ],
      "metadata": {
        "id": "qmNr6ab9QZ0e"
      }
    },
    {
      "cell_type": "code",
      "source": [
        "my_shopping_list = ['2 bottles of milk', '1 bottle of wine', '500g of Gouda']"
      ],
      "metadata": {
        "id": "2KMczgrHQcTz"
      },
      "execution_count": null,
      "outputs": []
    },
    {
      "cell_type": "code",
      "source": [
        "print(my_shopping_list)"
      ],
      "metadata": {
        "colab": {
          "base_uri": "https://localhost:8080/"
        },
        "id": "r6pHaelNQ1eY",
        "outputId": "a2a01a70-e080-4d4e-a777-ed4a769d8d06"
      },
      "execution_count": null,
      "outputs": [
        {
          "output_type": "stream",
          "name": "stdout",
          "text": [
            "['2 bottles of milk', '1 bottle of wine', '500g of Gouda']\n"
          ]
        }
      ]
    },
    {
      "cell_type": "code",
      "source": [
        "# How many items are there in my_shopping_list?\n",
        "# YOUR SOLUTION\n",
        "len(my_shopping_list)"
      ],
      "metadata": {
        "id": "fCOdRzEw5YjF",
        "colab": {
          "base_uri": "https://localhost:8080/"
        },
        "outputId": "92b7ddac-ce09-4d75-a098-7e5b87df7f3f"
      },
      "execution_count": null,
      "outputs": [
        {
          "output_type": "execute_result",
          "data": {
            "text/plain": [
              "3"
            ]
          },
          "metadata": {},
          "execution_count": 43
        }
      ]
    },
    {
      "cell_type": "code",
      "source": [
        "# How can you access the first element of my_shopping_list? Think about the way we did it for string ...\n",
        "# YOUR SOLUTION\n",
        "type(my_shopping_list[0])"
      ],
      "metadata": {
        "id": "fWxT0C_t5g_q",
        "colab": {
          "base_uri": "https://localhost:8080/"
        },
        "outputId": "52c1e75e-ce6a-489f-a427-15db2252cf5c"
      },
      "execution_count": null,
      "outputs": [
        {
          "output_type": "execute_result",
          "data": {
            "text/plain": [
              "str"
            ]
          },
          "metadata": {},
          "execution_count": 45
        }
      ]
    },
    {
      "cell_type": "code",
      "source": [
        "your_shopping_list = [\"6 Jupiler\", \"1 bottle of milk\"]"
      ],
      "metadata": {
        "id": "a57WaCCgQ3-6"
      },
      "execution_count": null,
      "outputs": []
    },
    {
      "cell_type": "code",
      "source": [
        "# Show the content of your_shopping_list\n",
        "# YOUR SOLUTION"
      ],
      "metadata": {
        "id": "YdqD5U6uRbcI"
      },
      "execution_count": null,
      "outputs": []
    },
    {
      "cell_type": "code",
      "source": [
        "# how do you put together the 2 lists to have only 1 list. Call this new object full_shopping_list\n",
        "# YOUR SOLUTION\n",
        "full_shopping_list = my_shopping_list + your_shopping_list"
      ],
      "metadata": {
        "id": "Qqk6z0_rRc80"
      },
      "execution_count": null,
      "outputs": []
    },
    {
      "cell_type": "code",
      "source": [
        "# Show the content of full_shopping_list\n",
        "# YOUR SOLUTION\n",
        "print(full_shopping_list)"
      ],
      "metadata": {
        "id": "kTzHCLIeRknl",
        "colab": {
          "base_uri": "https://localhost:8080/"
        },
        "outputId": "3560c155-450d-4687-802d-2d3459d7d597"
      },
      "execution_count": null,
      "outputs": [
        {
          "output_type": "stream",
          "name": "stdout",
          "text": [
            "['2 bottles of milk', '1 bottle of wine', '500g of Gouda', '6 Jupiler', '1 bottle of milk']\n"
          ]
        }
      ]
    },
    {
      "cell_type": "code",
      "source": [
        "# How many items are there in full_shopping_list ?\n",
        "# YOUR SOLUTION\n",
        "len(full_shopping_list)"
      ],
      "metadata": {
        "id": "yCQWp5R__swk",
        "colab": {
          "base_uri": "https://localhost:8080/"
        },
        "outputId": "0069b2c8-85cb-45a6-dc3a-2df06bebd473"
      },
      "execution_count": null,
      "outputs": [
        {
          "output_type": "execute_result",
          "data": {
            "text/plain": [
              "5"
            ]
          },
          "metadata": {},
          "execution_count": 49
        }
      ]
    },
    {
      "cell_type": "code",
      "source": [
        "dir(my_shopping_list)"
      ],
      "metadata": {
        "colab": {
          "base_uri": "https://localhost:8080/"
        },
        "id": "0Y6PW24e_2-A",
        "outputId": "e8a25f0f-9dc1-42be-89c2-947659993f86"
      },
      "execution_count": null,
      "outputs": [
        {
          "output_type": "execute_result",
          "data": {
            "text/plain": [
              "['__add__',\n",
              " '__class__',\n",
              " '__contains__',\n",
              " '__delattr__',\n",
              " '__delitem__',\n",
              " '__dir__',\n",
              " '__doc__',\n",
              " '__eq__',\n",
              " '__format__',\n",
              " '__ge__',\n",
              " '__getattribute__',\n",
              " '__getitem__',\n",
              " '__gt__',\n",
              " '__hash__',\n",
              " '__iadd__',\n",
              " '__imul__',\n",
              " '__init__',\n",
              " '__init_subclass__',\n",
              " '__iter__',\n",
              " '__le__',\n",
              " '__len__',\n",
              " '__lt__',\n",
              " '__mul__',\n",
              " '__ne__',\n",
              " '__new__',\n",
              " '__reduce__',\n",
              " '__reduce_ex__',\n",
              " '__repr__',\n",
              " '__reversed__',\n",
              " '__rmul__',\n",
              " '__setattr__',\n",
              " '__setitem__',\n",
              " '__sizeof__',\n",
              " '__str__',\n",
              " '__subclasshook__',\n",
              " 'append',\n",
              " 'clear',\n",
              " 'copy',\n",
              " 'count',\n",
              " 'extend',\n",
              " 'index',\n",
              " 'insert',\n",
              " 'pop',\n",
              " 'remove',\n",
              " 'reverse',\n",
              " 'sort']"
            ]
          },
          "metadata": {},
          "execution_count": 76
        }
      ]
    },
    {
      "cell_type": "code",
      "source": [
        "# add 'ice cream' into full_shopping_list\n",
        "# YOUR SOLUTION\n",
        "full_shopping_list.append(\"ice cream\")"
      ],
      "metadata": {
        "id": "xoau5LIiRo5c"
      },
      "execution_count": null,
      "outputs": []
    },
    {
      "cell_type": "code",
      "source": [
        "full_shopping_list"
      ],
      "metadata": {
        "colab": {
          "base_uri": "https://localhost:8080/"
        },
        "id": "lIOGM4zrq-Ut",
        "outputId": "d02f060b-5023-40f9-db62-b38cee712b94"
      },
      "execution_count": null,
      "outputs": [
        {
          "output_type": "execute_result",
          "data": {
            "text/plain": [
              "['2 bottles of milk',\n",
              " '1 bottle of wine',\n",
              " '500g of Gouda',\n",
              " '6 Jupiler',\n",
              " '1 bottle of milk',\n",
              " 'ice cream']"
            ]
          },
          "metadata": {},
          "execution_count": 51
        }
      ]
    },
    {
      "cell_type": "code",
      "source": [
        "# verify that you have added 'ice cream' into your full_shopping_list\n",
        "# YOUR SOLUTION\n",
        "full_shopping_list.index(\"ice cream\")"
      ],
      "metadata": {
        "id": "fwJ8vi2PBOAQ",
        "colab": {
          "base_uri": "https://localhost:8080/"
        },
        "outputId": "4207fbeb-776d-49ed-ee74-36fa23a566dd"
      },
      "execution_count": null,
      "outputs": [
        {
          "output_type": "execute_result",
          "data": {
            "text/plain": [
              "5"
            ]
          },
          "metadata": {},
          "execution_count": 54
        }
      ]
    },
    {
      "cell_type": "code",
      "source": [
        "# create list of 50 elements, each element being None\n",
        "# YOUR SOLUTION\n",
        "fifty_nones = [None] * 50\n",
        "fifty_nones"
      ],
      "metadata": {
        "colab": {
          "base_uri": "https://localhost:8080/"
        },
        "id": "QRpIyAqFexiC",
        "outputId": "5da49dc2-2b8b-44ee-a346-282086d677fb"
      },
      "execution_count": null,
      "outputs": [
        {
          "output_type": "execute_result",
          "data": {
            "text/plain": [
              "[None,\n",
              " None,\n",
              " None,\n",
              " None,\n",
              " None,\n",
              " None,\n",
              " None,\n",
              " None,\n",
              " None,\n",
              " None,\n",
              " None,\n",
              " None,\n",
              " None,\n",
              " None,\n",
              " None,\n",
              " None,\n",
              " None,\n",
              " None,\n",
              " None,\n",
              " None,\n",
              " None,\n",
              " None,\n",
              " None,\n",
              " None,\n",
              " None,\n",
              " None,\n",
              " None,\n",
              " None,\n",
              " None,\n",
              " None,\n",
              " None,\n",
              " None,\n",
              " None,\n",
              " None,\n",
              " None,\n",
              " None,\n",
              " None,\n",
              " None,\n",
              " None,\n",
              " None,\n",
              " None,\n",
              " None,\n",
              " None,\n",
              " None,\n",
              " None,\n",
              " None,\n",
              " None,\n",
              " None,\n",
              " None,\n",
              " None]"
            ]
          },
          "metadata": {},
          "execution_count": 55
        }
      ]
    },
    {
      "cell_type": "markdown",
      "source": [
        "## Dictionary\n",
        "You can read \n",
        "\n",
        "*   introduction of section 3.4\n",
        "*   section 3.4.1, 3.4.2 and 3.4.3\n",
        "\n",
        "on this website https://egallic.fr/Enseignement/Python/structures.html#type-dict\n",
        "\n",
        "After having read this, create an interesting usage for a dictionnary. Create a dictionnary, extract one value based on its key, check if a key is in your dictionnary"
      ],
      "metadata": {
        "id": "iQrC6hZqgCAE"
      }
    },
    {
      "cell_type": "markdown",
      "source": [
        "## Boolean"
      ],
      "metadata": {
        "id": "_junAutfRwoX"
      }
    },
    {
      "cell_type": "code",
      "source": [
        "True"
      ],
      "metadata": {
        "id": "o750V5pJR1Kb",
        "colab": {
          "base_uri": "https://localhost:8080/"
        },
        "outputId": "016ab6e7-3796-42be-b1a5-91870ee921d5"
      },
      "execution_count": null,
      "outputs": [
        {
          "output_type": "execute_result",
          "data": {
            "text/plain": [
              "True"
            ]
          },
          "metadata": {},
          "execution_count": 79
        }
      ]
    },
    {
      "cell_type": "code",
      "source": [
        "# What is the opposite of True?\n",
        "False"
      ],
      "metadata": {
        "id": "grNaSRxEdcLm",
        "colab": {
          "base_uri": "https://localhost:8080/"
        },
        "outputId": "5ff03355-eab0-4df5-c557-5802edb350fb"
      },
      "execution_count": null,
      "outputs": [
        {
          "output_type": "execute_result",
          "data": {
            "text/plain": [
              "(False, False)"
            ]
          },
          "metadata": {},
          "execution_count": 1
        }
      ]
    },
    {
      "cell_type": "code",
      "source": [
        "not(True)"
      ],
      "metadata": {
        "colab": {
          "base_uri": "https://localhost:8080/"
        },
        "id": "-fl4CAmM3H7L",
        "outputId": "bacc507c-1a76-41f2-c9d7-bbb051acc4c1"
      },
      "execution_count": null,
      "outputs": [
        {
          "output_type": "execute_result",
          "data": {
            "text/plain": [
              "False"
            ]
          },
          "metadata": {},
          "execution_count": 3
        }
      ]
    },
    {
      "cell_type": "code",
      "source": [
        "# Do you think that True equals False? ?\n",
        "# YOUR SOLUTION\n",
        "True == False"
      ],
      "metadata": {
        "id": "0J2eMGZZdepa",
        "colab": {
          "base_uri": "https://localhost:8080/"
        },
        "outputId": "670c3a53-b937-496b-f10b-16e3f34003ed"
      },
      "execution_count": null,
      "outputs": [
        {
          "output_type": "execute_result",
          "data": {
            "text/plain": [
              "False"
            ]
          },
          "metadata": {},
          "execution_count": 23
        }
      ]
    },
    {
      "cell_type": "code",
      "source": [
        "True == True"
      ],
      "metadata": {
        "colab": {
          "base_uri": "https://localhost:8080/"
        },
        "id": "AEAbZaNqJ38j",
        "outputId": "a48e1f7e-babb-409a-dd08-a148fccefa76"
      },
      "execution_count": null,
      "outputs": [
        {
          "output_type": "execute_result",
          "data": {
            "text/plain": [
              "True"
            ]
          },
          "metadata": {},
          "execution_count": 24
        }
      ]
    },
    {
      "cell_type": "code",
      "source": [
        "boolean_true = True"
      ],
      "metadata": {
        "id": "JvDDdJYIdkYx"
      },
      "execution_count": null,
      "outputs": []
    },
    {
      "cell_type": "code",
      "source": [
        "# Can you find the type of boolean_true ?\n",
        "type(boolean_true)"
      ],
      "metadata": {
        "id": "sQgm-gZddojD",
        "colab": {
          "base_uri": "https://localhost:8080/"
        },
        "outputId": "ac20bc03-43bd-48ed-9a7d-f74b59667109"
      },
      "execution_count": null,
      "outputs": [
        {
          "output_type": "execute_result",
          "data": {
            "text/plain": [
              "bool"
            ]
          },
          "metadata": {},
          "execution_count": 7
        }
      ]
    },
    {
      "cell_type": "code",
      "source": [
        "# can you do maths vith True or False? Test addition, substraction, multiplication, ...\n",
        "boolean_true * 8, 10 - boolean_true"
      ],
      "metadata": {
        "id": "izy7gHt3dzbG",
        "colab": {
          "base_uri": "https://localhost:8080/"
        },
        "outputId": "bddc203a-314d-439f-ae94-e95938d0d2ec"
      },
      "execution_count": null,
      "outputs": [
        {
          "output_type": "execute_result",
          "data": {
            "text/plain": [
              "(8, 9)"
            ]
          },
          "metadata": {},
          "execution_count": 9
        }
      ]
    },
    {
      "cell_type": "code",
      "source": [
        "# can you verify if 8 is greater than 5 ?\n",
        "8 > 5"
      ],
      "metadata": {
        "id": "tt8e0X_GD3zk",
        "colab": {
          "base_uri": "https://localhost:8080/"
        },
        "outputId": "4bcdabe8-0a0f-4057-ee50-7df75c292265"
      },
      "execution_count": null,
      "outputs": [
        {
          "output_type": "execute_result",
          "data": {
            "text/plain": [
              "True"
            ]
          },
          "metadata": {},
          "execution_count": 10
        }
      ]
    },
    {
      "cell_type": "markdown",
      "source": [
        "## if logic"
      ],
      "metadata": {
        "id": "4UZFnd1sgP3Z"
      }
    },
    {
      "cell_type": "code",
      "source": [
        "condition = False"
      ],
      "metadata": {
        "id": "WrZ6C1vsgUBC"
      },
      "execution_count": null,
      "outputs": []
    },
    {
      "cell_type": "code",
      "source": [
        "# Discover if logic\n",
        "if condition:\n",
        "  print(\"condition is True\")"
      ],
      "metadata": {
        "id": "lfR-koVYfS_P"
      },
      "execution_count": null,
      "outputs": []
    },
    {
      "cell_type": "code",
      "source": [
        "# What is the minimal change you can do to the previous code such that print function is executed\n",
        "if not(condition):\n",
        "  print(\"condition is True\")\n",
        "  a = 1"
      ],
      "metadata": {
        "id": "iCr9654_kjpE",
        "colab": {
          "base_uri": "https://localhost:8080/"
        },
        "outputId": "2cc1ca3b-5bbe-4373-eb2c-00732fd63e8d"
      },
      "execution_count": null,
      "outputs": [
        {
          "output_type": "stream",
          "name": "stdout",
          "text": [
            "condition is True\n"
          ]
        }
      ]
    },
    {
      "cell_type": "code",
      "source": [
        "a"
      ],
      "metadata": {
        "colab": {
          "base_uri": "https://localhost:8080/"
        },
        "id": "THGi2s3kKosb",
        "outputId": "b6bd50d0-ac4e-48f4-c8bd-207a40faec0f"
      },
      "execution_count": null,
      "outputs": [
        {
          "output_type": "execute_result",
          "data": {
            "text/plain": [
              "1"
            ]
          },
          "metadata": {},
          "execution_count": 30
        }
      ]
    },
    {
      "cell_type": "code",
      "source": [
        "# Discover if/else logic \n",
        "if condition:\n",
        "  print(\"condition is True\")\n",
        "else:\n",
        "  print(\"condition is False\")"
      ],
      "metadata": {
        "colab": {
          "base_uri": "https://localhost:8080/"
        },
        "id": "D2Z8j1PEfb9n",
        "outputId": "dbe49586-f037-4856-8804-7769871dbea2"
      },
      "execution_count": null,
      "outputs": [
        {
          "output_type": "stream",
          "name": "stdout",
          "text": [
            "condition is False\n"
          ]
        }
      ]
    },
    {
      "cell_type": "code",
      "source": [
        "# another example\n",
        "if 8 > 10:\n",
        "  print(\"8 is bigger than 10\")\n",
        "else:\n",
        "  print(\"8 is not bigger than 10\")"
      ],
      "metadata": {
        "colab": {
          "base_uri": "https://localhost:8080/"
        },
        "id": "EqLr-rmUfjsb",
        "outputId": "701e566a-1579-46f0-8ce3-6cbeeba954e5"
      },
      "execution_count": null,
      "outputs": [
        {
          "output_type": "stream",
          "name": "stdout",
          "text": [
            "8 is not bigger than 10\n"
          ]
        }
      ]
    },
    {
      "cell_type": "code",
      "source": [
        "# a third example\n",
        "if 10 > 8:\n",
        "  print(\"10 is bigger than 8\")\n",
        "else:\n",
        "  print(\"10 is not bigger than 8\")"
      ],
      "metadata": {
        "colab": {
          "base_uri": "https://localhost:8080/"
        },
        "id": "OPwBKJdNf68f",
        "outputId": "23b79952-3ad8-4b7c-89c0-abb52121563c"
      },
      "execution_count": null,
      "outputs": [
        {
          "output_type": "stream",
          "name": "stdout",
          "text": [
            "10 is bigger than 8\n"
          ]
        }
      ]
    },
    {
      "cell_type": "code",
      "source": [
        "# build 'if ... else logic' where there are two conditions to meet       10 > 8 and 8 < 9\n",
        "if 10 > 8 and 8 < 9:\n",
        "  print(\"Condition is True\")\n",
        "else:\n",
        "  print(\"Condition is False\")\n",
        "\n",
        "\n"
      ],
      "metadata": {
        "id": "Ku36suC8GIu8",
        "colab": {
          "base_uri": "https://localhost:8080/"
        },
        "outputId": "56ecbe7f-26ec-4a07-c948-0a9f8d0fa0a9"
      },
      "execution_count": null,
      "outputs": [
        {
          "output_type": "stream",
          "name": "stdout",
          "text": [
            "Condition is True\n"
          ]
        }
      ]
    },
    {
      "cell_type": "code",
      "source": [
        "# build 'if ... else logic' where there are two conditions to meet       5 > 8 OR 8 < 9\n",
        "if 5 > 8 or 8 < 9:\n",
        "  print(\"Condition is True\")\n",
        "else:\n",
        "  print(\"Condition is False\")\n",
        "\n",
        "\n"
      ],
      "metadata": {
        "id": "3xPZg5vCGUOj",
        "colab": {
          "base_uri": "https://localhost:8080/"
        },
        "outputId": "5484327d-29ce-4eaf-ef79-8c8601b3a143"
      },
      "execution_count": null,
      "outputs": [
        {
          "output_type": "stream",
          "name": "stdout",
          "text": [
            "Condition is True\n"
          ]
        }
      ]
    },
    {
      "cell_type": "code",
      "source": [
        "# build if logic. print \"Business Data Analyst time\" when we are in timeslots of BDA\n",
        "import datetime\n",
        "import pytz\n",
        "brusselsTz = pytz.timezone(\"Europe/Brussels\") \n",
        "current_time = datetime.datetime.now(brusselsTz)\n",
        "print(current_time)"
      ],
      "metadata": {
        "colab": {
          "base_uri": "https://localhost:8080/"
        },
        "id": "6Q_mLVBBGjKf",
        "outputId": "ab18daf5-1913-4a12-80d0-be2be2b6bebb"
      },
      "execution_count": null,
      "outputs": [
        {
          "output_type": "stream",
          "name": "stdout",
          "text": [
            "2022-10-20 18:15:48.601920+02:00\n"
          ]
        }
      ]
    },
    {
      "cell_type": "code",
      "source": [
        "type(current_time)"
      ],
      "metadata": {
        "colab": {
          "base_uri": "https://localhost:8080/"
        },
        "id": "drdg27Rd0rDl",
        "outputId": "72e94896-4061-4c25-eb21-b548f2a4273a"
      },
      "execution_count": null,
      "outputs": [
        {
          "output_type": "execute_result",
          "data": {
            "text/plain": [
              "datetime.datetime"
            ]
          },
          "metadata": {},
          "execution_count": 19
        }
      ]
    },
    {
      "cell_type": "code",
      "source": [
        "dir(current_time)"
      ],
      "metadata": {
        "colab": {
          "base_uri": "https://localhost:8080/"
        },
        "id": "pRHMFSdCJhD_",
        "outputId": "66d11293-6c81-4955-9542-68f9a006aeb8"
      },
      "execution_count": null,
      "outputs": [
        {
          "output_type": "execute_result",
          "data": {
            "text/plain": [
              "['__add__',\n",
              " '__class__',\n",
              " '__delattr__',\n",
              " '__dir__',\n",
              " '__doc__',\n",
              " '__eq__',\n",
              " '__format__',\n",
              " '__ge__',\n",
              " '__getattribute__',\n",
              " '__gt__',\n",
              " '__hash__',\n",
              " '__init__',\n",
              " '__init_subclass__',\n",
              " '__le__',\n",
              " '__lt__',\n",
              " '__ne__',\n",
              " '__new__',\n",
              " '__radd__',\n",
              " '__reduce__',\n",
              " '__reduce_ex__',\n",
              " '__repr__',\n",
              " '__rsub__',\n",
              " '__setattr__',\n",
              " '__sizeof__',\n",
              " '__str__',\n",
              " '__sub__',\n",
              " '__subclasshook__',\n",
              " 'astimezone',\n",
              " 'combine',\n",
              " 'ctime',\n",
              " 'date',\n",
              " 'day',\n",
              " 'dst',\n",
              " 'fold',\n",
              " 'fromisoformat',\n",
              " 'fromordinal',\n",
              " 'fromtimestamp',\n",
              " 'hour',\n",
              " 'isocalendar',\n",
              " 'isoformat',\n",
              " 'isoweekday',\n",
              " 'max',\n",
              " 'microsecond',\n",
              " 'min',\n",
              " 'minute',\n",
              " 'month',\n",
              " 'now',\n",
              " 'replace',\n",
              " 'resolution',\n",
              " 'second',\n",
              " 'strftime',\n",
              " 'strptime',\n",
              " 'time',\n",
              " 'timestamp',\n",
              " 'timetuple',\n",
              " 'timetz',\n",
              " 'today',\n",
              " 'toordinal',\n",
              " 'tzinfo',\n",
              " 'tzname',\n",
              " 'utcfromtimestamp',\n",
              " 'utcnow',\n",
              " 'utcoffset',\n",
              " 'utctimetuple',\n",
              " 'weekday',\n",
              " 'year']"
            ]
          },
          "metadata": {},
          "execution_count": 20
        }
      ]
    },
    {
      "cell_type": "code",
      "source": [
        "# solution 1\n",
        "if (((current_time.weekday() in [1, 3]) and current_time.hour >= 18 and current_time.hour < 21)\\\n",
        "or (current_time.weekday()==5 and ((current_time.hour >= 9 and current_time.hour <13  )\\\n",
        "                                    or (current_time.hour == 8 and current_time.minute >= 30)) ) ):\n",
        "  print(\"Business Data Analyst time\")\n",
        "\n",
        "\n"
      ],
      "metadata": {
        "id": "k3WJzDrHOoMK",
        "colab": {
          "base_uri": "https://localhost:8080/",
          "height": 235
        },
        "outputId": "f5068fa9-1e12-48f2-93a3-596403dfdd86"
      },
      "execution_count": 1,
      "outputs": [
        {
          "output_type": "error",
          "ename": "NameError",
          "evalue": "ignored",
          "traceback": [
            "\u001b[0;31m---------------------------------------------------------------------------\u001b[0m",
            "\u001b[0;31mNameError\u001b[0m                                 Traceback (most recent call last)",
            "\u001b[0;32m<ipython-input-1-efb157abbef4>\u001b[0m in \u001b[0;36m<module>\u001b[0;34m\u001b[0m\n\u001b[1;32m      1\u001b[0m \u001b[0;31m# solution 1\u001b[0m\u001b[0;34m\u001b[0m\u001b[0;34m\u001b[0m\u001b[0;34m\u001b[0m\u001b[0m\n\u001b[0;32m----> 2\u001b[0;31m if (((current_time.weekday() in [1, 3]) and current_time.hour >= 18 and current_time.hour < 21)\\\n\u001b[0m\u001b[1;32m      3\u001b[0m or (current_time.weekday()==5 and ((current_time.hour >= 9 and current_time.hour <13  )\\\n\u001b[1;32m      4\u001b[0m                                     or (current_time.hour == 8 and current_time.minute >= 30)) ) ):\n\u001b[1;32m      5\u001b[0m   \u001b[0mprint\u001b[0m\u001b[0;34m(\u001b[0m\u001b[0;34m\"Business Data Analyst time\"\u001b[0m\u001b[0;34m)\u001b[0m\u001b[0;34m\u001b[0m\u001b[0;34m\u001b[0m\u001b[0m\n",
            "\u001b[0;31mNameError\u001b[0m: name 'current_time' is not defined"
          ]
        }
      ]
    },
    {
      "cell_type": "code",
      "source": [
        "??datetime.time"
      ],
      "metadata": {
        "id": "_LvR64wMM0Od"
      },
      "execution_count": null,
      "outputs": []
    },
    {
      "cell_type": "markdown",
      "source": [],
      "metadata": {
        "id": "fHhoNn2bL6fW"
      }
    },
    {
      "cell_type": "code",
      "source": [
        "# solution 2: nicer\n",
        "current_weekday = current_time.weekday()\n",
        "current_hms = current_time.time()\n",
        "if (((current_weekday in [1, 3]) and current_hms >= datetime.time(18,0,0) and current_hms < datetime.time(21,0,0) )\\\n",
        "or (current_weekday==5 and current_hms >= datetime.time(8,30,0) and current_hms < datetime.time(13,0,0)) ):\n",
        "  print(\"Business Data Analyst time\")"
      ],
      "metadata": {
        "id": "L7visb3b5nY9"
      },
      "execution_count": null,
      "outputs": []
    },
    {
      "cell_type": "code",
      "source": [
        "datetime.time(16,59,5) > datetime.time(17,55,5)"
      ],
      "metadata": {
        "colab": {
          "base_uri": "https://localhost:8080/"
        },
        "id": "rPccG5zY5LON",
        "outputId": "f3a7932b-d461-4646-d5db-c58a8e9efce8"
      },
      "execution_count": null,
      "outputs": [
        {
          "output_type": "execute_result",
          "data": {
            "text/plain": [
              "False"
            ]
          },
          "metadata": {},
          "execution_count": 22
        }
      ]
    },
    {
      "cell_type": "markdown",
      "source": [
        "## loop (for, while)"
      ],
      "metadata": {
        "id": "o5-eWTKdgUo9"
      }
    },
    {
      "cell_type": "code",
      "source": [
        "# Hhow can we print number from 0 to 10\n",
        "print(0)\n",
        "print(1)\n",
        "print(2)\n",
        "# boring and time consuming"
      ],
      "metadata": {
        "id": "DCexWPdXgadA",
        "colab": {
          "base_uri": "https://localhost:8080/"
        },
        "outputId": "96b4c01c-6037-49bd-f99c-a155363615ba"
      },
      "execution_count": null,
      "outputs": [
        {
          "output_type": "stream",
          "name": "stdout",
          "text": [
            "0\n",
            "1\n",
            "2\n"
          ]
        }
      ]
    },
    {
      "cell_type": "code",
      "source": [
        "# let's create an object\n",
        "??range"
      ],
      "metadata": {
        "id": "Y24CRQSaTgPW"
      },
      "execution_count": null,
      "outputs": []
    },
    {
      "cell_type": "code",
      "source": [
        "from_0_to_9 = range(10)\n",
        "from_0_to_9"
      ],
      "metadata": {
        "colab": {
          "base_uri": "https://localhost:8080/"
        },
        "id": "RNYbDBD3T1ei",
        "outputId": "bb3b62f7-b801-4ba5-d8be-1ab58c65e806"
      },
      "execution_count": null,
      "outputs": [
        {
          "output_type": "execute_result",
          "data": {
            "text/plain": [
              "range(0, 10)"
            ]
          },
          "metadata": {},
          "execution_count": 43
        }
      ]
    },
    {
      "cell_type": "code",
      "source": [
        "from_0_to_9[0]"
      ],
      "metadata": {
        "colab": {
          "base_uri": "https://localhost:8080/"
        },
        "id": "LC82tOJ8wUEn",
        "outputId": "f70e884b-f4bc-4035-f588-d9e4c65982a8"
      },
      "execution_count": null,
      "outputs": [
        {
          "output_type": "execute_result",
          "data": {
            "text/plain": [
              "0"
            ]
          },
          "metadata": {},
          "execution_count": 44
        }
      ]
    },
    {
      "cell_type": "code",
      "source": [
        "from_0_to_9[1]"
      ],
      "metadata": {
        "colab": {
          "base_uri": "https://localhost:8080/"
        },
        "id": "rFEj6MDNwsWS",
        "outputId": "298d65a4-48d3-4655-a549-993ef443b577"
      },
      "execution_count": null,
      "outputs": [
        {
          "output_type": "execute_result",
          "data": {
            "text/plain": [
              "1"
            ]
          },
          "metadata": {},
          "execution_count": 45
        }
      ]
    },
    {
      "cell_type": "code",
      "source": [
        "# discover the structure of a loop\n",
        "# how do you print the value of i at each iteration\n",
        "for i in from_0_to_9:\n",
        "  # YOUR SOLUTION\n",
        "  print(i)"
      ],
      "metadata": {
        "colab": {
          "base_uri": "https://localhost:8080/"
        },
        "id": "ZgZnXniVwu0g",
        "outputId": "c0e83023-951e-4d51-ca0a-460f726389ab"
      },
      "execution_count": null,
      "outputs": [
        {
          "output_type": "stream",
          "name": "stdout",
          "text": [
            "0\n",
            "1\n",
            "2\n",
            "3\n",
            "4\n",
            "5\n",
            "6\n",
            "7\n",
            "8\n",
            "9\n"
          ]
        }
      ]
    },
    {
      "cell_type": "code",
      "source": [
        "??range"
      ],
      "metadata": {
        "id": "DJ8W0-ZubIgh"
      },
      "execution_count": null,
      "outputs": []
    },
    {
      "cell_type": "code",
      "source": [
        "# how would you do the same but starting from 10 and stopping at 0? \n",
        "# Hava e look at documentation of function range: ??range\n",
        "# YOUR SOLUTION\n",
        "number_second_left = range(10,-1,  -1)\n",
        "for i in number_second_left:\n",
        "  print(i)"
      ],
      "metadata": {
        "id": "Yh5YBnlkxrWZ",
        "colab": {
          "base_uri": "https://localhost:8080/"
        },
        "outputId": "d5fcef18-8d17-4222-f273-3d622edebf98"
      },
      "execution_count": null,
      "outputs": [
        {
          "output_type": "stream",
          "name": "stdout",
          "text": [
            "10\n",
            "9\n",
            "8\n",
            "7\n",
            "6\n",
            "5\n",
            "4\n",
            "3\n",
            "2\n",
            "1\n",
            "0\n"
          ]
        }
      ]
    },
    {
      "cell_type": "code",
      "source": [
        "# Considering now this is a timer with the number of seconds left, is there a way to print a number every second\n",
        "# do not hesitate to use google to find your solution\n",
        "# YOUR SOLUTION\n",
        "import time\n",
        "number_second_left = range(10,-1,  -1)\n",
        "for i in number_second_left:\n",
        "  print(i)\n",
        "  time.sleep(1)\n"
      ],
      "metadata": {
        "id": "X_0U9xiryKp8",
        "colab": {
          "base_uri": "https://localhost:8080/"
        },
        "outputId": "a50ea45d-b1b0-4982-accf-db4a8753b99a"
      },
      "execution_count": null,
      "outputs": [
        {
          "output_type": "stream",
          "name": "stdout",
          "text": [
            "10\n",
            "9\n",
            "8\n",
            "7\n",
            "6\n",
            "5\n",
            "4\n",
            "3\n",
            "2\n",
            "1\n",
            "0\n"
          ]
        }
      ]
    },
    {
      "cell_type": "code",
      "source": [
        "# another solution\n",
        "import time\n",
        "numbers = reversed(range(11))\n",
        "for i in numbers:\n",
        "  print(i)\n",
        "  time.sleep(1)"
      ],
      "metadata": {
        "colab": {
          "base_uri": "https://localhost:8080/"
        },
        "id": "4h6cHrr9UACh",
        "outputId": "266472f2-1a81-4d7b-9e45-724a50e8a66a"
      },
      "execution_count": null,
      "outputs": [
        {
          "output_type": "stream",
          "name": "stdout",
          "text": [
            "10\n",
            "9\n",
            "8\n",
            "7\n",
            "6\n",
            "5\n",
            "4\n",
            "3\n",
            "2\n",
            "1\n",
            "0\n"
          ]
        }
      ]
    },
    {
      "cell_type": "code",
      "source": [
        "# Imagine you have inital amount of 10 000€ on your savings account, \n",
        "# The annual interest rate is 4.8%\n",
        "# as of end of year 1, you can put 2500€ each year on you savings account. This amount is invested with the same interest rate\n",
        "# after how many year do you have at least 50 000€ on your savings account?\n",
        "# YOUR SOLUTION\n",
        "\n",
        "initial_amount = 10000\n",
        "interest_rate = 0.048\n",
        "target_amount = 50000\n",
        "additional_amount = 2500\n",
        "\n",
        "cumulated_amount = initial_amount\n",
        "number_of_year = 0\n",
        "while (cumulated_amount < target_amount):\n",
        "  \n",
        "  cumulated_amount = (cumulated_amount + ((number_of_year >= 1)*additional_amount) ) * (1+interest_rate)\n",
        "  number_of_year += 1 \n",
        "  print(\"Year \", str(number_of_year), cumulated_amount)\n",
        "#print(number_of_year, cumulated_amount)"
      ],
      "metadata": {
        "colab": {
          "base_uri": "https://localhost:8080/"
        },
        "id": "uRjKGjWSVtS6",
        "outputId": "e9d0f245-8ec9-431c-dfb9-365f087ce6bd"
      },
      "execution_count": null,
      "outputs": [
        {
          "output_type": "stream",
          "name": "stdout",
          "text": [
            "Year  1 10480.0\n",
            "Year  2 13603.04\n",
            "Year  3 16875.985920000003\n",
            "Year  4 20306.033244160004\n",
            "Year  5 23900.722839879683\n",
            "Year  6 27667.95753619391\n",
            "Year  7 31616.01949793122\n",
            "Year  8 35753.58843383192\n",
            "Year  9 40089.76067865585\n",
            "Year  10 44634.069191231334\n",
            "Year  11 49396.50451241044\n",
            "Year  12 54387.53672900615\n"
          ]
        }
      ]
    },
    {
      "cell_type": "markdown",
      "source": [
        "## Let's compute some descriptive statistics"
      ],
      "metadata": {
        "id": "UYD0COgi6XWn"
      }
    },
    {
      "cell_type": "code",
      "source": [
        "# Let's say we have a list of age, from that list, we want to compute minimum, maximum and average\n",
        "# How would you do that? (for each statistics there are multiple ways of doing it)\n",
        "age = [20,22,28,30,16,41,38,75,64,38]\n",
        "# YOUR SOLUTION\n",
        "min(age), max(age), sum(age)/len(age)"
      ],
      "metadata": {
        "id": "mQ25i9oVzNc3",
        "colab": {
          "base_uri": "https://localhost:8080/"
        },
        "outputId": "6341a56d-f8b7-414d-806e-a22039471ffc"
      },
      "execution_count": null,
      "outputs": [
        {
          "output_type": "execute_result",
          "data": {
            "text/plain": [
              "(16, 75, 37.2)"
            ]
          },
          "metadata": {},
          "execution_count": 109
        }
      ]
    },
    {
      "cell_type": "code",
      "source": [
        "from statistics import mean\n",
        "mean(age)"
      ],
      "metadata": {
        "colab": {
          "base_uri": "https://localhost:8080/"
        },
        "id": "cc1dsJ2kQ6YM",
        "outputId": "b8b18dc2-d63c-4036-a611-4c5b4a760586"
      },
      "execution_count": null,
      "outputs": [
        {
          "output_type": "execute_result",
          "data": {
            "text/plain": [
              "37.2"
            ]
          },
          "metadata": {},
          "execution_count": 110
        }
      ]
    },
    {
      "cell_type": "code",
      "source": [
        "import numpy\n",
        "numpy.mean(age)"
      ],
      "metadata": {
        "colab": {
          "base_uri": "https://localhost:8080/"
        },
        "id": "jPKKLe79RGy4",
        "outputId": "bec386ee-41b1-43ea-e0fd-53d01072e4aa"
      },
      "execution_count": null,
      "outputs": [
        {
          "output_type": "execute_result",
          "data": {
            "text/plain": [
              "37.2"
            ]
          },
          "metadata": {},
          "execution_count": 111
        }
      ]
    },
    {
      "cell_type": "markdown",
      "source": [
        "## More content\n",
        "If you want to go further regarding the basics of Python programming, you can consult the following ressources:\n",
        "\n",
        "\n",
        "*   https://egallic.fr/Enseignement/Python/propos-liminaires.html\n",
        "*   https://www.w3schools.com/python/\n",
        "*   https://docs.python-guide.org/writing/style/\n",
        "*   https://automatetheboringstuff.com/\n",
        "*   ...\n",
        "\n",
        "\n",
        "\n"
      ],
      "metadata": {
        "id": "FTyppgZ_WlCT"
      }
    }
  ]
}